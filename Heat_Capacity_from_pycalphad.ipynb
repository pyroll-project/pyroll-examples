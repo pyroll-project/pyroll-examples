{
 "cells": [
  {
   "cell_type": "markdown",
   "source": [
    "# Specific Heat Capacity from pycalphad\n",
    "\n",
    "In this notebook, the interaction between PyRolL and pycalphad is demonstrated. \n",
    "In this example, the calphad method is used to calculate the specific heat capacity of the low-carbon steel C15 (1.0401) using free `tdb` databases provided by [MatCalc Engineering GmbH](https://www.matcalc.at/index.php/databases/open-databases). The measured chemical composition (wt%) of a example can be seen in the following table: \n",
    "\n",
    "| Steel grade  | C    | Si   | Mn   | Cr   | Ni   | Cu   | P     | S      | Fe    |\n",
    "|--------------|------|------|------|------|------|------|-------|--------|-------|\n",
    "| C15 (1.0401) | 0.16 | 0.16 | 0.69 | 0.12 | 0.09 | 0.17 | 0.002 | 0.0065 | 98.43 |\n",
    "\n",
    "Further, thermodynamical database files (`tdb`) for other alloying systems can be found [here](https://avdwgroup.engin.brown.edu/). The specific-heat-capacity is mostly important when considering cooling processes which often follow a hot rolling process. As always, we first import the necessary python modules."
   ],
   "metadata": {
    "collapsed": false
   },
   "id": "68622efa31f5d00"
  },
  {
   "cell_type": "code",
   "outputs": [],
   "source": [
    "import numpy as np\n",
    "import pyroll.core as pr\n",
    "import matplotlib.pyplot as plt\n",
    "import pycalphad.variables as v\n",
    "import scipy.interpolate as interpolate\n",
    "\n",
    "from pycalphad import Database\n",
    "from pycalphad import equilibrium\n",
    "from pyroll.freiberg_flow_stress import FreibergFlowStressCoefficients"
   ],
   "metadata": {
    "collapsed": false,
    "ExecuteTime": {
     "end_time": "2024-02-20T16:33:59.436092186Z",
     "start_time": "2024-02-20T16:33:56.639882666Z"
    }
   },
   "id": "f28ade3e077bf0dd",
   "execution_count": 6
  },
  {
   "cell_type": "code",
   "outputs": [
    {
     "name": "stderr",
     "output_type": "stream",
     "text": [
      "/home/christoph/.local/share/virtualenvs/pyroll-examples-YS1GospC/lib/python3.11/site-packages/pycalphad/io/tdb.py:929: UserWarning: The type definition character `%` was defined in the following phases: ['LIQUID', 'FCC_A1', 'BCC_A2', 'H_BCC', 'BCC_DISL', 'HCP_A3', 'ALPHA_MN', 'BETA_MN', 'BETA_RHOMBO_B', 'DIAMOND_A4', 'GRAPHITE', 'BCC_B2', 'CHI_A12', 'CO3MO', 'CO3V', 'COV3', 'CR3MN5', 'G_PHASE', 'LAVES_PHASE', 'MNNI', 'MNNI2', 'MNNI_T3', 'MU_PHASE', 'MU_PHASE_I', 'ETA', 'NITI2', 'PI_PHASE', 'R_PHASE', 'SIGMA', 'FE17Y2', 'NI5Y', 'PDFE_L12', 'PDMN_AF', 'PDMN_P', 'PDMN_B2', 'PD2MN', 'PD3MN', 'PD5MN3', 'PD6FE5MN2', 'CEMENTITE', 'CR2VC2', 'K_CARB', 'KSI_CARBIDE', 'M3C2', 'M6C', 'M7C3', 'M12C', 'M23C6', 'MOC_ETA', 'V3C2', 'WC', 'EPS_CARB', 'ETA_CARB', 'FE24C10', 'KSI_FE5C2', 'ALN', 'ALN_EQU', 'BN_HP4', 'CR3NI2SIN', 'FE4N', 'MN6N4', 'MN6N5', 'MNSIN2', 'SI3N4', 'ZET', 'CRB', 'CR2B', 'CR5B3', 'FEB', 'FENBB', 'FE3NB3B4', 'M2B', 'MNB2', 'MNB4', 'O_MN2B', 'MN3B4', 'MOB', 'MOB2', 'MO2M1B2', 'NBB', 'NB3B2', 'M5B6', 'TIB', 'TIB2', 'TI3B4', 'A_CHALC', 'ANILITE', 'B_CHALC', 'COVELLITE', 'CU2S', 'DIGENITE', 'DISULF', 'DJURLEITE', 'FC_MONO', 'FC_ORTHO', 'FES_P', 'MNS_Q', 'PYRR', 'TIS', 'TI4C2S2', 'CORUND', 'HALITE', 'HF1O2_M', 'HF1O2_T', 'HF1O2_C', 'LA2O3_A', 'LA2O3_H', 'LA2O3_C', 'SIO2', 'SPINEL', 'TIO2', 'TI2O3', 'TRID', 'Y2O3_C', 'Y2O3_H', 'YALO3', 'Y4AL2O9', 'Y2TIO5', 'Y2TI2O7', 'O1_GAS', 'M2P', 'M3P'], but no corresponding TYPE_DEFINITION line was found in the TDB.\n",
      "  warnings.warn(f\"The type definition character `{typechar}` was defined in the following phases: \"\n"
     ]
    }
   ],
   "source": [
    "database = Database('mc_fe_v2.059.pycalphad.tdb')"
   ],
   "metadata": {
    "collapsed": false,
    "ExecuteTime": {
     "end_time": "2024-02-20T16:34:05.499606683Z",
     "start_time": "2024-02-20T16:33:59.438516243Z"
    }
   },
   "id": "376f71c83432be9e",
   "execution_count": 7
  },
  {
   "cell_type": "markdown",
   "source": [
    "## Conversion of weight-fractions to molar-fractions\n",
    "The industrial standard, how to provide the chemical composition of an alloy is to use weight-fractions. In the scientific realm, however, molar-fractions are more common. Therefore, we need a function which converts weight-fractions to molar fractions. This can be handled by the `get_mole_fractions` function of `pycalphad`."
   ],
   "metadata": {
    "collapsed": false
   },
   "id": "7613fb97edc6b3ed"
  },
  {
   "cell_type": "code",
   "outputs": [],
   "source": [
    "molar_masses_grams_per_mol = {\n",
    "    'H': 1.008, 'HE': 4.0026, 'LI': 6.94, 'BE': 9.0122, 'B': 10.81,\n",
    "    'C': 12.011, 'N': 14.007, 'O': 15.999, 'F': 18.998, 'NE': 20.180,\n",
    "    'NA': 22.990, 'MG': 24.305, 'AL': 26.982, 'SI': 28.085, 'P': 30.974,\n",
    "    'S': 32.06, 'CL': 35.45, 'AR': 39.948, 'K': 39.098, 'CA': 40.078,\n",
    "    'SC': 44.956, 'TI': 47.867, 'V': 50.942, 'CR': 51.996, 'MN': 54.938,\n",
    "    'FE': 55.845, 'CO': 58.933, 'NI': 58.693, 'CU': 63.546, 'ZN': 65.38,\n",
    "    'GA': 69.723, 'GE': 72.63, 'AS': 74.922, 'SE': 78.971, 'BR': 79.904,\n",
    "    'KR': 83.798, 'RB': 85.468, 'SR': 87.62, 'Y': 88.906, 'ZR': 91.224,\n",
    "    'NB': 92.906, 'MO': 95.95, 'TC': 98.0, 'RU': 101.07, 'RH': 102.91,\n",
    "    'PD': 106.42, 'AG': 107.87, 'CD': 112.41, 'IN': 114.82, 'SN': 118.71,\n",
    "    'SB': 121.76, 'TE': 127.6, 'I': 126.9, 'XE': 131.29, 'CS': 132.91,\n",
    "    'BA': 137.33, 'LA': 138.91, 'CE': 140.12, 'PR': 140.91, 'ND': 144.24,\n",
    "    'PM': 145.0, 'SM': 150.36, 'EU': 151.96, 'GD': 157.25, 'TB': 158.93,\n",
    "    'DY': 162.5, 'HO': 164.93, 'ER': 167.26, 'TM': 168.93, 'YB': 173.05,\n",
    "    'LU': 174.97, 'HF': 178.49, 'TA': 180.95, 'W': 183.84, 'RE': 186.21,\n",
    "    'OS': 190.23, 'IR': 192.22, 'PT': 195.08, 'AU': 196.97, 'HG': 200.59,\n",
    "    'TL': 204.38, 'PB': 207.2, 'BI': 208.98, 'PO': 209.0, 'AT': 210.0,\n",
    "    'RN': 222.0, 'FR': 223.0, 'RA': 226.0, 'AC': 227.0, 'TH': 232.04,\n",
    "    'PA': 231.04, 'U': 238.03, 'NP': 237.0, 'PU': 244.0, 'AM': 243.0,\n",
    "    'CM': 247.0, 'BK': 247.0, 'CF': 251.0, 'ES': 252.0, 'FM': 257.0,\n",
    "    'MD': 258.0, 'NO': 259.0, 'LR': 266.0\n",
    "}\n"
   ],
   "metadata": {
    "collapsed": false,
    "ExecuteTime": {
     "end_time": "2024-02-20T16:43:29.318064161Z",
     "start_time": "2024-02-20T16:43:29.299707801Z"
    }
   },
   "id": "70b3c52435a3a458",
   "execution_count": 24
  },
  {
   "cell_type": "markdown",
   "source": [
    "## Definition of incoming profile\n",
    "Now let's define a profile and use it to calculate the molar fractions as well as the molar mass."
   ],
   "metadata": {
    "collapsed": false
   },
   "id": "5128aea5d74ffa20"
  },
  {
   "cell_type": "code",
   "outputs": [],
   "source": [
    "profile = pr.Profile.round(\n",
    "    diameter=50e-3,\n",
    "    temperature=1200 + 273.15,\n",
    "    material=[\"steel\", \"C15\"],\n",
    "    density=7.5e3,\n",
    "    strain=0,\n",
    "    chemical_composition={\n",
    "        \"C\": 0.16 / 100,\n",
    "        \"SI\": 0.16 / 100,\n",
    "        \"MN\": 0.69 / 100,\n",
    "        \"CR\": 0.12 / 100,\n",
    "        \"NI\": 0.09 / 100,\n",
    "        \"CU\": 0.17 / 100,\n",
    "        \"P\": 0.002 / 100,\n",
    "        \"S\": 0.0065/ 100,\n",
    "        \"FE\": 98.43 / 100\n",
    "    },\n",
    "    freiberg_flow_stress_coefficients=FreibergFlowStressCoefficients(\n",
    "        a=2098.29 * 1e6,\n",
    "        m1=-0.00272,\n",
    "        m2=0.22312,\n",
    "        m4=0.00003,\n",
    "        m5=0.00028,\n",
    "        m7=-0.58508,\n",
    "        m8=0.000137,\n",
    "        baseStrain=0.1,\n",
    "        baseStrainRate=0.1\n",
    "    )\n",
    ")"
   ],
   "metadata": {
    "collapsed": false,
    "ExecuteTime": {
     "end_time": "2024-02-20T16:43:30.493590212Z",
     "start_time": "2024-02-20T16:43:30.464201610Z"
    }
   },
   "id": "6a087e4a30f1782a",
   "execution_count": 25
  },
  {
   "cell_type": "code",
   "outputs": [],
   "source": [
    "mass_fractions = {\n",
    "    v.W('C'): profile.chemical_composition['C'],\n",
    "    v.W('CU'): profile.chemical_composition['CU'],\n",
    "    v.W('SI'): profile.chemical_composition['SI'],\n",
    "    v.W('MN'): profile.chemical_composition['MN'],\n",
    "    v.W('CR'): profile.chemical_composition['CR'],\n",
    "    v.W('NI'): profile.chemical_composition['NI'],\n",
    "    v.W('P'): profile.chemical_composition['P'],\n",
    "    v.W('S'): profile.chemical_composition['S'],\n",
    "}\n",
    "\n",
    "mole_fractions = v.get_mole_fractions(mass_fractions=mass_fractions, dependent_species=v.Species('FE'), pure_element_mass_dict=database)\n",
    "mole_mass = sum(profile.chemical_composition[element] * molar_masses_grams_per_mol[element] for element in profile.chemical_composition.keys())"
   ],
   "metadata": {
    "collapsed": false,
    "ExecuteTime": {
     "end_time": "2024-02-20T16:43:31.047620881Z",
     "start_time": "2024-02-20T16:43:31.039987181Z"
    }
   },
   "id": "478bf0d8f49bf7cb",
   "execution_count": 26
  },
  {
   "cell_type": "markdown",
   "source": [
    "## Stepped Equilibrium \n",
    "Now we have to calculate a stepped equilibrium using the `pycalphad` package. This equilibrium gives us information about the phase compositions of the alloy at various temperatures between a start and a stop temperature. Further information we have to provide to run the calculations is the atmospheric pressure as well as the number of moles we want to consider. Also, we need information about the expected phases. This information can be gained from literature or a phase diagram. In this case we expect the liquid phase (LIQUID), cementite (CEMENTITE), austenite (FCC_A1) as well as ferrite (BCC_A2) regarding the temperature. At last the composition (chemical elements) of the alloy."
   ],
   "metadata": {
    "collapsed": false
   },
   "id": "a719516d9658b765"
  },
  {
   "cell_type": "code",
   "outputs": [],
   "source": [
    "start_temperature_kelvin = 20 + 273.15\n",
    "end_temperature_kelvin = 1200 + 273.15\n",
    "number_of_moles = 1\n",
    "atmospheric_pressure = 101325\n",
    "\n",
    "conditions = {\n",
    "    v.X('C'): mole_fractions[v.MoleFraction(v.Species('C'))],\n",
    "    v.X('CU'): mole_fractions[v.MoleFraction(v.Species('CU'))],\n",
    "    v.X('SI'): mole_fractions[v.MoleFraction(v.Species('SI'))],\n",
    "    v.X('MN'): mole_fractions[v.MoleFraction(v.Species('MN'))],\n",
    "    v.X('CR'): mole_fractions[v.MoleFraction(v.Species('CR'))],\n",
    "    v.X('NI'): mole_fractions[v.MoleFraction(v.Species('NI'))],\n",
    "    v.X('P'): mole_fractions[v.MoleFraction(v.Species('P'))],\n",
    "    v.X('S'): mole_fractions[v.MoleFraction(v.Species('S'))],\n",
    "    v.N: number_of_moles,\n",
    "    v.P: atmospheric_pressure,\n",
    "    v.T: (start_temperature_kelvin, end_temperature_kelvin, 10)  # temperature (start, stop, step)\n",
    "}\n",
    "phases = ['LIQUID', 'FCC_A1', 'BCC_A2', 'CEMENTITE']\n",
    "composition = ['FE', 'C', 'CU', 'SI', 'MN', 'CR', 'NI', 'P', 'S', 'VA']\n",
    "eq = equilibrium(database, composition, phases, conditions, output=['heat_capacity'])\n",
    "specific_heat_capacity = np.squeeze(eq['heat_capacity'].values) / mole_mass\n",
    "temperature = eq['T'].values"
   ],
   "metadata": {
    "collapsed": false,
    "ExecuteTime": {
     "end_time": "2024-02-20T16:44:13.925037982Z",
     "start_time": "2024-02-20T16:43:57.018122339Z"
    }
   },
   "id": "8eea31823319a38d",
   "execution_count": 27
  },
  {
   "cell_type": "markdown",
   "source": [
    "## Extracting the specific-heat-capacity \n",
    "Now let's inspect the result. And check if the results are correct, comparing them to values taken from \"Numerical data \n",
    "More methods about how to check if the results are valid, can be taken from the pycalphad documentation which can be found [here](https://pycalphad.org/docs/latest/examples/EquilibriumWithOrdering.html)."
   ],
   "metadata": {
    "collapsed": false
   },
   "id": "a2089dc215e3c3cf"
  },
  {
   "cell_type": "code",
   "outputs": [
    {
     "data": {
      "text/plain": "<Figure size 640x480 with 1 Axes>",
      "image/png": "[encoded data removed]"
     },
     "metadata": {},
     "output_type": "display_data"
    }
   ],
   "source": [
    "fig: plt.Figure = plt.figure()\n",
    "ax: plt.Axes = fig.add_subplot()\n",
    "\n",
    "specific_heat_capacity_spittel = np.array(\n",
    "    [472.11, 484.14, 497.07, 516.92, 541.07, 567.8, 596.65, 627.42, 691.57, 681.08, 686.60, 684.14, 681.68])\n",
    "temperatures_spittel = np.array([20, 100, 200, 300, 400, 500, 600, 700, 800, 900, 1000, 1100, 1200]) + 273.15\n",
    "\n",
    "ax.set_title('C15: Heat capacity over Temperature')\n",
    "ax.set_xlabel(r\"$T$ in $\\mathrm{K}$\")\n",
    "ax.set_ylabel(r\"$c_{p}$ in $\\mathrm{\\frac{kJ}{kg K}}$\")\n",
    "ax.grid(True)\n",
    "ax.set_aspect(\"equal\")\n",
    "ax.plot(temperature, specific_heat_capacity * 1000, label='pycalpad')\n",
    "ax.plot(temperatures_spittel, specific_heat_capacity_spittel, label='Spittel et al.')\n",
    "ax.scatter(temperatures_spittel, specific_heat_capacity_spittel, c='C1')\n",
    "ax.legend()\n",
    "plt.show()"
   ],
   "metadata": {
    "collapsed": false,
    "ExecuteTime": {
     "end_time": "2024-02-20T16:44:47.675788559Z",
     "start_time": "2024-02-20T16:44:47.490751811Z"
    }
   },
   "id": "79c9a9bc0b853a2a",
   "execution_count": 28
  },
  {
   "cell_type": "markdown",
   "source": [
    "## Usage of the data in PyRolL\n",
    "Now let's interpolate the gained values and use them for a simulation in PyRolL."
   ],
   "metadata": {
    "collapsed": false
   },
   "id": "4335185550839220"
  },
  {
   "cell_type": "code",
   "outputs": [
    {
     "data": {
      "text/plain": "Profile(\n    chemical_composition={'C': 0.0016,\n     'SI': 0.0016,\n     'MN': 0.0069,\n     'CR': 0.0012,\n     'NI': 0.0009,\n     'CU': 0.0017000000000000001,\n     'P': 2e-05,\n     'S': 6.5e-05,\n     'FE': 0.9843000000000001},\n    classifiers={'generic_elongation', 'oval', 'swedish_oval'},\n    cross_section=Polygon(\n        area=0.0014976631456151905,\n        height=0.027999999999999997,\n        perimeter=0.1545024092875257,\n        width=0.06,\n        ),\n    density=7500.0,\n    freiberg_flow_stress_coefficients=FreibergFlowStressCoefficients(a=2098290000.0, m1=-0.00272, m2=0.22312, m3=0, m4=3e-05, m5=0.00028, m6=0, m7=-0.58508, m8=0.000137, m9=0, baseStrain=0.1, baseStrainRate=0.1),\n    length=0.0,\n    material=['steel', 'C15'],\n    strain=0,\n    t=6.0571064266249754,\n    temperature=1473.15,\n    )",
      "text/html": "<table><tr><td style='text-align: center'><?xml version=\"1.0\" encoding=\"utf-8\" standalone=\"no\"?>\n<!DOCTYPE svg PUBLIC \"-//W3C//DTD SVG 1.1//EN\"\n  \"http://www.w3.org/Graphics/SVG/1.1/DTD/svg11.dtd\">\n<svg xmlns:xlink=\"http://www.w3.org/1999/xlink\" width=\"460.8pt\" height=\"345.6pt\" viewBox=\"0 0 460.8 345.6\" xmlns=\"http://www.w3.org/2000/svg\" version=\"1.1\">\n <metadata>\n  <rdf:RDF xmlns:dc=\"http://purl.org/dc/elements/1.1/\" xmlns:cc=\"http://creativecommons.org/ns#\" xmlns:rdf=\"http://www.w3.org/1999/02/22-rdf-syntax-ns#\">\n   <cc:Work>\n    <dc:type rdf:resource=\"http://purl.org/dc/dcmitype/StillImage\"/>\n    <dc:date>2024-02-20T17:44:52.200211</dc:date>\n    <dc:format>image/svg+xml</dc:format>\n    <dc:creator>\n     <cc:Agent>\n      <dc:title>Matplotlib v3.8.3, https://matplotlib.org/</dc:title>\n     </cc:Agent>\n    </dc:creator>\n   </cc:Work>\n  </rdf:RDF>\n </metadata>\n <defs>\n  <style type=\"text/css\">*{stroke-linejoin: round; stroke-linecap: butt}</style>\n </defs>\n <g id=\"figure_1\">\n  <g id=\"patch_1\">\n   <path d=\"M 0 345.6 \nL 460.8 345.6 \nL 460.8 0 \nL 0 0 \nz\n\" style=\"fill: #ffffff\"/>\n  </g>\n  <g id=\"axes_1\">\n   <g id=\"patch_2\">\n    <path d=\"M 57.6 307.584 \nL 414.72 307.584 \nL 414.72 41.472 \nL 57.6 41.472 \nz\n\" style=\"fill: #ffffff\"/>\n   </g>\n   <g id=\"patch_3\">\n    <path d=\"M 73.832727 212.547324 \nL 73.832727 136.508676 \nL 73.922567 136.481561 \nL 74.815875 136.183545 \nL 75.709184 135.856291 \nL 76.602493 135.498843 \nL 77.495801 135.110105 \nL 78.38911 134.688826 \nL 79.282419 134.233571 \nL 80.175727 133.742696 \nL 81.069036 133.214306 \nL 81.962345 132.646207 \nL 98.124385 121.993953 \nL 101.99539 119.532189 \nL 105.866394 117.242498 \nL 109.737398 115.115374 \nL 113.608402 113.142604 \nL 117.479407 111.317058 \nL 121.350411 109.632527 \nL 125.221415 108.083585 \nL 129.092419 106.665489 \nL 132.963424 105.374085 \nL 136.834428 104.205746 \nL 140.705432 103.157306 \nL 144.576436 102.226018 \nL 148.447441 101.40951 \nL 152.318445 100.705757 \nL 156.189449 100.113049 \nL 160.060453 99.629975 \nL 163.931458 99.255402 \nL 167.802462 98.988461 \nL 171.673466 98.828539 \nL 236.16 98.775273 \nL 300.646534 98.828539 \nL 304.517538 98.988461 \nL 308.388542 99.255402 \nL 312.259547 99.629975 \nL 316.130551 100.113049 \nL 320.001555 100.705757 \nL 323.872559 101.40951 \nL 327.743564 102.226018 \nL 331.614568 103.157306 \nL 335.485572 104.205746 \nL 339.356576 105.374085 \nL 343.227581 106.665489 \nL 347.098585 108.083585 \nL 350.969589 109.632527 \nL 354.840593 111.317058 \nL 358.711598 113.142604 \nL 362.582602 115.115374 \nL 366.453606 117.242498 \nL 370.32461 119.532189 \nL 374.195615 121.993953 \nL 390.357655 132.646207 \nL 391.250964 133.214306 \nL 392.144273 133.742696 \nL 393.037581 134.233571 \nL 393.93089 134.688826 \nL 394.824199 135.110105 \nL 395.717507 135.498843 \nL 396.610816 135.856291 \nL 397.504125 136.183545 \nL 398.397433 136.481561 \nL 398.487273 136.508676 \nL 398.487273 212.547324 \nL 398.397433 212.574439 \nL 397.504125 212.872455 \nL 396.610816 213.199709 \nL 395.717507 213.557157 \nL 394.824199 213.945895 \nL 393.93089 214.367174 \nL 393.037581 214.822429 \nL 392.144273 215.313304 \nL 391.250964 215.841694 \nL 390.357655 216.409793 \nL 374.195615 227.062047 \nL 370.32461 229.523811 \nL 366.453606 231.813502 \nL 362.582602 233.940626 \nL 358.711598 235.913396 \nL 354.840593 237.738942 \nL 350.969589 239.423473 \nL 347.098585 240.972415 \nL 343.227581 242.390511 \nL 339.356576 243.681915 \nL 335.485572 244.850254 \nL 331.614568 245.898694 \nL 327.743564 246.829982 \nL 323.872559 247.64649 \nL 320.001555 248.350243 \nL 316.130551 248.942951 \nL 312.259547 249.426025 \nL 308.388542 249.800598 \nL 304.517538 250.067539 \nL 300.646534 250.227461 \nL 236.16 250.280727 \nL 171.673466 250.227461 \nL 167.802462 250.067539 \nL 163.931458 249.800598 \nL 160.060453 249.426025 \nL 156.189449 248.942951 \nL 152.318445 248.350243 \nL 148.447441 247.64649 \nL 144.576436 246.829982 \nL 140.705432 245.898694 \nL 136.834428 244.850254 \nL 132.963424 243.681915 \nL 129.092419 242.390511 \nL 125.221415 240.972415 \nL 121.350411 239.423473 \nL 117.479407 237.738942 \nL 113.608402 235.913396 \nL 109.737398 233.940626 \nL 105.866394 231.813502 \nL 101.99539 229.523811 \nL 98.124385 227.062047 \nL 81.962345 216.409793 \nL 81.069036 215.841694 \nL 80.175727 215.313304 \nL 79.282419 214.822429 \nL 78.38911 214.367174 \nL 77.495801 213.945895 \nL 76.602493 213.557157 \nL 75.709184 213.199709 \nL 74.815875 212.872455 \nL 73.922567 212.574439 \nz\n\" clip-path=\"url(#pf60100c526)\" style=\"opacity: 0.5; stroke: #000000; stroke-linejoin: miter\"/>\n   </g>\n   <g id=\"matplotlib.axis_1\">\n    <g id=\"xtick_1\">\n     <g id=\"line2d_1\">\n      <path d=\"M 73.832727 307.584 \nL 73.832727 41.472 \n\" clip-path=\"url(#pf60100c526)\" style=\"fill: none; stroke: #b0b0b0; stroke-width: 0.5; stroke-linecap: square\"/>\n     </g>\n     <g id=\"line2d_2\">\n      <defs>\n       <path id=\"m854c9988e7\" d=\"M 0 0 \nL 0 3.5 \n\" style=\"stroke: #000000; stroke-width: 0.8\"/>\n      </defs>\n      <g>\n       <use xlink:href=\"#m854c9988e7\" x=\"73.832727\" y=\"307.584\" style=\"stroke: #000000; stroke-width: 0.8\"/>\n      </g>\n     </g>\n     <g id=\"text_1\">\n      <!-- −0.03 -->\n      <g transform=\"translate(58.510071 322.182437) scale(0.1 -0.1)\">\n       <defs>\n        <path id=\"DejaVuSans-2212\" d=\"M 678 2272 \nL 4684 2272 \nL 4684 1741 \nL 678 1741 \nL 678 2272 \nz\n\" transform=\"scale(0.015625)\"/>\n        <path id=\"DejaVuSans-30\" d=\"M 2034 4250 \nQ 1547 4250 1301 3770 \nQ 1056 3291 1056 2328 \nQ 1056 1369 1301 889 \nQ 1547 409 2034 409 \nQ 2525 409 2770 889 \nQ 3016 1369 3016 2328 \nQ 3016 3291 2770 3770 \nQ 2525 4250 2034 4250 \nz\nM 2034 4750 \nQ 2819 4750 3233 4129 \nQ 3647 3509 3647 2328 \nQ 3647 1150 3233 529 \nQ 2819 -91 2034 -91 \nQ 1250 -91 836 529 \nQ 422 1150 422 2328 \nQ 422 3509 836 4129 \nQ 1250 4750 2034 4750 \nz\n\" transform=\"scale(0.015625)\"/>\n        <path id=\"DejaVuSans-2e\" d=\"M 684 794 \nL 1344 794 \nL 1344 0 \nL 684 0 \nL 684 794 \nz\n\" transform=\"scale(0.015625)\"/>\n        <path id=\"DejaVuSans-33\" d=\"M 2597 2516 \nQ 3050 2419 3304 2112 \nQ 3559 1806 3559 1356 \nQ 3559 666 3084 287 \nQ 2609 -91 1734 -91 \nQ 1441 -91 1130 -33 \nQ 819 25 488 141 \nL 488 750 \nQ 750 597 1062 519 \nQ 1375 441 1716 441 \nQ 2309 441 2620 675 \nQ 2931 909 2931 1356 \nQ 2931 1769 2642 2001 \nQ 2353 2234 1838 2234 \nL 1294 2234 \nL 1294 2753 \nL 1863 2753 \nQ 2328 2753 2575 2939 \nQ 2822 3125 2822 3475 \nQ 2822 3834 2567 4026 \nQ 2313 4219 1838 4219 \nQ 1578 4219 1281 4162 \nQ 984 4106 628 3988 \nL 628 4550 \nQ 988 4650 1302 4700 \nQ 1616 4750 1894 4750 \nQ 2613 4750 3031 4423 \nQ 3450 4097 3450 3541 \nQ 3450 3153 3228 2886 \nQ 3006 2619 2597 2516 \nz\n\" transform=\"scale(0.015625)\"/>\n       </defs>\n       <use xlink:href=\"#DejaVuSans-2212\"/>\n       <use xlink:href=\"#DejaVuSans-30\" x=\"83.789062\"/>\n       <use xlink:href=\"#DejaVuSans-2e\" x=\"147.412109\"/>\n       <use xlink:href=\"#DejaVuSans-30\" x=\"179.199219\"/>\n       <use xlink:href=\"#DejaVuSans-33\" x=\"242.822266\"/>\n      </g>\n     </g>\n    </g>\n    <g id=\"xtick_2\">\n     <g id=\"line2d_3\">\n      <path d=\"M 127.941818 307.584 \nL 127.941818 41.472 \n\" clip-path=\"url(#pf60100c526)\" style=\"fill: none; stroke: #b0b0b0; stroke-width: 0.5; stroke-linecap: square\"/>\n     </g>\n     <g id=\"line2d_4\">\n      <g>\n       <use xlink:href=\"#m854c9988e7\" x=\"127.941818\" y=\"307.584\" style=\"stroke: #000000; stroke-width: 0.8\"/>\n      </g>\n     </g>\n     <g id=\"text_2\">\n      <!-- −0.02 -->\n      <g transform=\"translate(112.619162 322.182437) scale(0.1 -0.1)\">\n       <defs>\n        <path id=\"DejaVuSans-32\" d=\"M 1228 531 \nL 3431 531 \nL 3431 0 \nL 469 0 \nL 469 531 \nQ 828 903 1448 1529 \nQ 2069 2156 2228 2338 \nQ 2531 2678 2651 2914 \nQ 2772 3150 2772 3378 \nQ 2772 3750 2511 3984 \nQ 2250 4219 1831 4219 \nQ 1534 4219 1204 4116 \nQ 875 4013 500 3803 \nL 500 4441 \nQ 881 4594 1212 4672 \nQ 1544 4750 1819 4750 \nQ 2544 4750 2975 4387 \nQ 3406 4025 3406 3419 \nQ 3406 3131 3298 2873 \nQ 3191 2616 2906 2266 \nQ 2828 2175 2409 1742 \nQ 1991 1309 1228 531 \nz\n\" transform=\"scale(0.015625)\"/>\n       </defs>\n       <use xlink:href=\"#DejaVuSans-2212\"/>\n       <use xlink:href=\"#DejaVuSans-30\" x=\"83.789062\"/>\n       <use xlink:href=\"#DejaVuSans-2e\" x=\"147.412109\"/>\n       <use xlink:href=\"#DejaVuSans-30\" x=\"179.199219\"/>\n       <use xlink:href=\"#DejaVuSans-32\" x=\"242.822266\"/>\n      </g>\n     </g>\n    </g>\n    <g id=\"xtick_3\">\n     <g id=\"line2d_5\">\n      <path d=\"M 182.050909 307.584 \nL 182.050909 41.472 \n\" clip-path=\"url(#pf60100c526)\" style=\"fill: none; stroke: #b0b0b0; stroke-width: 0.5; stroke-linecap: square\"/>\n     </g>\n     <g id=\"line2d_6\">\n      <g>\n       <use xlink:href=\"#m854c9988e7\" x=\"182.050909\" y=\"307.584\" style=\"stroke: #000000; stroke-width: 0.8\"/>\n      </g>\n     </g>\n     <g id=\"text_3\">\n      <!-- −0.01 -->\n      <g transform=\"translate(166.728253 322.182437) scale(0.1 -0.1)\">\n       <defs>\n        <path id=\"DejaVuSans-31\" d=\"M 794 531 \nL 1825 531 \nL 1825 4091 \nL 703 3866 \nL 703 4441 \nL 1819 4666 \nL 2450 4666 \nL 2450 531 \nL 3481 531 \nL 3481 0 \nL 794 0 \nL 794 531 \nz\n\" transform=\"scale(0.015625)\"/>\n       </defs>\n       <use xlink:href=\"#DejaVuSans-2212\"/>\n       <use xlink:href=\"#DejaVuSans-30\" x=\"83.789062\"/>\n       <use xlink:href=\"#DejaVuSans-2e\" x=\"147.412109\"/>\n       <use xlink:href=\"#DejaVuSans-30\" x=\"179.199219\"/>\n       <use xlink:href=\"#DejaVuSans-31\" x=\"242.822266\"/>\n      </g>\n     </g>\n    </g>\n    <g id=\"xtick_4\">\n     <g id=\"line2d_7\">\n      <path d=\"M 236.16 307.584 \nL 236.16 41.472 \n\" clip-path=\"url(#pf60100c526)\" style=\"fill: none; stroke: #b0b0b0; stroke-width: 0.5; stroke-linecap: square\"/>\n     </g>\n     <g id=\"line2d_8\">\n      <g>\n       <use xlink:href=\"#m854c9988e7\" x=\"236.16\" y=\"307.584\" style=\"stroke: #000000; stroke-width: 0.8\"/>\n      </g>\n     </g>\n     <g id=\"text_4\">\n      <!-- 0.00 -->\n      <g transform=\"translate(225.027187 322.182437) scale(0.1 -0.1)\">\n       <use xlink:href=\"#DejaVuSans-30\"/>\n       <use xlink:href=\"#DejaVuSans-2e\" x=\"63.623047\"/>\n       <use xlink:href=\"#DejaVuSans-30\" x=\"95.410156\"/>\n       <use xlink:href=\"#DejaVuSans-30\" x=\"159.033203\"/>\n      </g>\n     </g>\n    </g>\n    <g id=\"xtick_5\">\n     <g id=\"line2d_9\">\n      <path d=\"M 290.269091 307.584 \nL 290.269091 41.472 \n\" clip-path=\"url(#pf60100c526)\" style=\"fill: none; stroke: #b0b0b0; stroke-width: 0.5; stroke-linecap: square\"/>\n     </g>\n     <g id=\"line2d_10\">\n      <g>\n       <use xlink:href=\"#m854c9988e7\" x=\"290.269091\" y=\"307.584\" style=\"stroke: #000000; stroke-width: 0.8\"/>\n      </g>\n     </g>\n     <g id=\"text_5\">\n      <!-- 0.01 -->\n      <g transform=\"translate(279.136278 322.182437) scale(0.1 -0.1)\">\n       <use xlink:href=\"#DejaVuSans-30\"/>\n       <use xlink:href=\"#DejaVuSans-2e\" x=\"63.623047\"/>\n       <use xlink:href=\"#DejaVuSans-30\" x=\"95.410156\"/>\n       <use xlink:href=\"#DejaVuSans-31\" x=\"159.033203\"/>\n      </g>\n     </g>\n    </g>\n    <g id=\"xtick_6\">\n     <g id=\"line2d_11\">\n      <path d=\"M 344.378182 307.584 \nL 344.378182 41.472 \n\" clip-path=\"url(#pf60100c526)\" style=\"fill: none; stroke: #b0b0b0; stroke-width: 0.5; stroke-linecap: square\"/>\n     </g>\n     <g id=\"line2d_12\">\n      <g>\n       <use xlink:href=\"#m854c9988e7\" x=\"344.378182\" y=\"307.584\" style=\"stroke: #000000; stroke-width: 0.8\"/>\n      </g>\n     </g>\n     <g id=\"text_6\">\n      <!-- 0.02 -->\n      <g transform=\"translate(333.245369 322.182437) scale(0.1 -0.1)\">\n       <use xlink:href=\"#DejaVuSans-30\"/>\n       <use xlink:href=\"#DejaVuSans-2e\" x=\"63.623047\"/>\n       <use xlink:href=\"#DejaVuSans-30\" x=\"95.410156\"/>\n       <use xlink:href=\"#DejaVuSans-32\" x=\"159.033203\"/>\n      </g>\n     </g>\n    </g>\n    <g id=\"xtick_7\">\n     <g id=\"line2d_13\">\n      <path d=\"M 398.487273 307.584 \nL 398.487273 41.472 \n\" clip-path=\"url(#pf60100c526)\" style=\"fill: none; stroke: #b0b0b0; stroke-width: 0.5; stroke-linecap: square\"/>\n     </g>\n     <g id=\"line2d_14\">\n      <g>\n       <use xlink:href=\"#m854c9988e7\" x=\"398.487273\" y=\"307.584\" style=\"stroke: #000000; stroke-width: 0.8\"/>\n      </g>\n     </g>\n     <g id=\"text_7\">\n      <!-- 0.03 -->\n      <g transform=\"translate(387.35446 322.182437) scale(0.1 -0.1)\">\n       <use xlink:href=\"#DejaVuSans-30\"/>\n       <use xlink:href=\"#DejaVuSans-2e\" x=\"63.623047\"/>\n       <use xlink:href=\"#DejaVuSans-30\" x=\"95.410156\"/>\n       <use xlink:href=\"#DejaVuSans-33\" x=\"159.033203\"/>\n      </g>\n     </g>\n    </g>\n    <g id=\"text_8\">\n     <!-- z -->\n     <g transform=\"translate(233.535781 335.860562) scale(0.1 -0.1)\">\n      <defs>\n       <path id=\"DejaVuSans-7a\" d=\"M 353 3500 \nL 3084 3500 \nL 3084 2975 \nL 922 459 \nL 3084 459 \nL 3084 0 \nL 275 0 \nL 275 525 \nL 2438 3041 \nL 353 3041 \nL 353 3500 \nz\n\" transform=\"scale(0.015625)\"/>\n      </defs>\n      <use xlink:href=\"#DejaVuSans-7a\"/>\n     </g>\n    </g>\n   </g>\n   <g id=\"matplotlib.axis_2\">\n    <g id=\"ytick_1\">\n     <g id=\"line2d_15\">\n      <path d=\"M 57.6 282.746182 \nL 414.72 282.746182 \n\" clip-path=\"url(#pf60100c526)\" style=\"fill: none; stroke: #b0b0b0; stroke-width: 0.5; stroke-linecap: square\"/>\n     </g>\n     <g id=\"line2d_16\">\n      <defs>\n       <path id=\"m8134e2c138\" d=\"M 0 0 \nL -3.5 0 \n\" style=\"stroke: #000000; stroke-width: 0.8\"/>\n      </defs>\n      <g>\n       <use xlink:href=\"#m8134e2c138\" x=\"57.6\" y=\"282.746182\" style=\"stroke: #000000; stroke-width: 0.8\"/>\n      </g>\n     </g>\n     <g id=\"text_9\">\n      <!-- −0.02 -->\n      <g transform=\"translate(19.954687 286.545401) scale(0.1 -0.1)\">\n       <use xlink:href=\"#DejaVuSans-2212\"/>\n       <use xlink:href=\"#DejaVuSans-30\" x=\"83.789062\"/>\n       <use xlink:href=\"#DejaVuSans-2e\" x=\"147.412109\"/>\n       <use xlink:href=\"#DejaVuSans-30\" x=\"179.199219\"/>\n       <use xlink:href=\"#DejaVuSans-32\" x=\"242.822266\"/>\n      </g>\n     </g>\n    </g>\n    <g id=\"ytick_2\">\n     <g id=\"line2d_17\">\n      <path d=\"M 57.6 228.637091 \nL 414.72 228.637091 \n\" clip-path=\"url(#pf60100c526)\" style=\"fill: none; stroke: #b0b0b0; stroke-width: 0.5; stroke-linecap: square\"/>\n     </g>\n     <g id=\"line2d_18\">\n      <g>\n       <use xlink:href=\"#m8134e2c138\" x=\"57.6\" y=\"228.637091\" style=\"stroke: #000000; stroke-width: 0.8\"/>\n      </g>\n     </g>\n     <g id=\"text_10\">\n      <!-- −0.01 -->\n      <g transform=\"translate(19.954687 232.43631) scale(0.1 -0.1)\">\n       <use xlink:href=\"#DejaVuSans-2212\"/>\n       <use xlink:href=\"#DejaVuSans-30\" x=\"83.789062\"/>\n       <use xlink:href=\"#DejaVuSans-2e\" x=\"147.412109\"/>\n       <use xlink:href=\"#DejaVuSans-30\" x=\"179.199219\"/>\n       <use xlink:href=\"#DejaVuSans-31\" x=\"242.822266\"/>\n      </g>\n     </g>\n    </g>\n    <g id=\"ytick_3\">\n     <g id=\"line2d_19\">\n      <path d=\"M 57.6 174.528 \nL 414.72 174.528 \n\" clip-path=\"url(#pf60100c526)\" style=\"fill: none; stroke: #b0b0b0; stroke-width: 0.5; stroke-linecap: square\"/>\n     </g>\n     <g id=\"line2d_20\">\n      <g>\n       <use xlink:href=\"#m8134e2c138\" x=\"57.6\" y=\"174.528\" style=\"stroke: #000000; stroke-width: 0.8\"/>\n      </g>\n     </g>\n     <g id=\"text_11\">\n      <!-- 0.00 -->\n      <g transform=\"translate(28.334375 178.327219) scale(0.1 -0.1)\">\n       <use xlink:href=\"#DejaVuSans-30\"/>\n       <use xlink:href=\"#DejaVuSans-2e\" x=\"63.623047\"/>\n       <use xlink:href=\"#DejaVuSans-30\" x=\"95.410156\"/>\n       <use xlink:href=\"#DejaVuSans-30\" x=\"159.033203\"/>\n      </g>\n     </g>\n    </g>\n    <g id=\"ytick_4\">\n     <g id=\"line2d_21\">\n      <path d=\"M 57.6 120.418909 \nL 414.72 120.418909 \n\" clip-path=\"url(#pf60100c526)\" style=\"fill: none; stroke: #b0b0b0; stroke-width: 0.5; stroke-linecap: square\"/>\n     </g>\n     <g id=\"line2d_22\">\n      <g>\n       <use xlink:href=\"#m8134e2c138\" x=\"57.6\" y=\"120.418909\" style=\"stroke: #000000; stroke-width: 0.8\"/>\n      </g>\n     </g>\n     <g id=\"text_12\">\n      <!-- 0.01 -->\n      <g transform=\"translate(28.334375 124.218128) scale(0.1 -0.1)\">\n       <use xlink:href=\"#DejaVuSans-30\"/>\n       <use xlink:href=\"#DejaVuSans-2e\" x=\"63.623047\"/>\n       <use xlink:href=\"#DejaVuSans-30\" x=\"95.410156\"/>\n       <use xlink:href=\"#DejaVuSans-31\" x=\"159.033203\"/>\n      </g>\n     </g>\n    </g>\n    <g id=\"ytick_5\">\n     <g id=\"line2d_23\">\n      <path d=\"M 57.6 66.309818 \nL 414.72 66.309818 \n\" clip-path=\"url(#pf60100c526)\" style=\"fill: none; stroke: #b0b0b0; stroke-width: 0.5; stroke-linecap: square\"/>\n     </g>\n     <g id=\"line2d_24\">\n      <g>\n       <use xlink:href=\"#m8134e2c138\" x=\"57.6\" y=\"66.309818\" style=\"stroke: #000000; stroke-width: 0.8\"/>\n      </g>\n     </g>\n     <g id=\"text_13\">\n      <!-- 0.02 -->\n      <g transform=\"translate(28.334375 70.109037) scale(0.1 -0.1)\">\n       <use xlink:href=\"#DejaVuSans-30\"/>\n       <use xlink:href=\"#DejaVuSans-2e\" x=\"63.623047\"/>\n       <use xlink:href=\"#DejaVuSans-30\" x=\"95.410156\"/>\n       <use xlink:href=\"#DejaVuSans-32\" x=\"159.033203\"/>\n      </g>\n     </g>\n    </g>\n    <g id=\"text_14\">\n     <!-- y -->\n     <g transform=\"translate(13.875 177.487375) rotate(-90) scale(0.1 -0.1)\">\n      <defs>\n       <path id=\"DejaVuSans-79\" d=\"M 2059 -325 \nQ 1816 -950 1584 -1140 \nQ 1353 -1331 966 -1331 \nL 506 -1331 \nL 506 -850 \nL 844 -850 \nQ 1081 -850 1212 -737 \nQ 1344 -625 1503 -206 \nL 1606 56 \nL 191 3500 \nL 800 3500 \nL 1894 763 \nL 2988 3500 \nL 3597 3500 \nL 2059 -325 \nz\n\" transform=\"scale(0.015625)\"/>\n      </defs>\n      <use xlink:href=\"#DejaVuSans-79\"/>\n     </g>\n    </g>\n   </g>\n   <g id=\"line2d_25\">\n    <path d=\"M 73.832727 212.547324 \nL 73.832727 136.508676 \nL 73.922567 136.481561 \nL 74.815875 136.183545 \nL 75.709184 135.856291 \nL 76.602493 135.498843 \nL 77.495801 135.110105 \nL 78.38911 134.688826 \nL 79.282419 134.233571 \nL 80.175727 133.742696 \nL 81.069036 133.214306 \nL 81.962345 132.646207 \nL 98.124385 121.993953 \nL 101.99539 119.532189 \nL 105.866394 117.242498 \nL 109.737398 115.115374 \nL 113.608402 113.142604 \nL 117.479407 111.317058 \nL 121.350411 109.632527 \nL 125.221415 108.083585 \nL 129.092419 106.665489 \nL 132.963424 105.374085 \nL 136.834428 104.205746 \nL 140.705432 103.157306 \nL 144.576436 102.226018 \nL 148.447441 101.40951 \nL 152.318445 100.705757 \nL 156.189449 100.113049 \nL 160.060453 99.629975 \nL 163.931458 99.255402 \nL 167.802462 98.988461 \nL 171.673466 98.828539 \nL 236.16 98.775273 \nL 300.646534 98.828539 \nL 304.517538 98.988461 \nL 308.388542 99.255402 \nL 312.259547 99.629975 \nL 316.130551 100.113049 \nL 320.001555 100.705757 \nL 323.872559 101.40951 \nL 327.743564 102.226018 \nL 331.614568 103.157306 \nL 335.485572 104.205746 \nL 339.356576 105.374085 \nL 343.227581 106.665489 \nL 347.098585 108.083585 \nL 350.969589 109.632527 \nL 354.840593 111.317058 \nL 358.711598 113.142604 \nL 362.582602 115.115374 \nL 366.453606 117.242498 \nL 370.32461 119.532189 \nL 374.195615 121.993953 \nL 390.357655 132.646207 \nL 391.250964 133.214306 \nL 392.144273 133.742696 \nL 393.037581 134.233571 \nL 393.93089 134.688826 \nL 394.824199 135.110105 \nL 395.717507 135.498843 \nL 396.610816 135.856291 \nL 397.504125 136.183545 \nL 398.397433 136.481561 \nL 398.487273 136.508676 \nL 398.487273 212.547324 \nL 398.397433 212.574439 \nL 397.504125 212.872455 \nL 396.610816 213.199709 \nL 395.717507 213.557157 \nL 394.824199 213.945895 \nL 393.93089 214.367174 \nL 393.037581 214.822429 \nL 392.144273 215.313304 \nL 391.250964 215.841694 \nL 390.357655 216.409793 \nL 374.195615 227.062047 \nL 370.32461 229.523811 \nL 366.453606 231.813502 \nL 362.582602 233.940626 \nL 358.711598 235.913396 \nL 354.840593 237.738942 \nL 350.969589 239.423473 \nL 347.098585 240.972415 \nL 343.227581 242.390511 \nL 339.356576 243.681915 \nL 335.485572 244.850254 \nL 331.614568 245.898694 \nL 327.743564 246.829982 \nL 323.872559 247.64649 \nL 320.001555 248.350243 \nL 316.130551 248.942951 \nL 312.259547 249.426025 \nL 308.388542 249.800598 \nL 304.517538 250.067539 \nL 300.646534 250.227461 \nL 236.16 250.280727 \nL 171.673466 250.227461 \nL 167.802462 250.067539 \nL 163.931458 249.800598 \nL 160.060453 249.426025 \nL 156.189449 248.942951 \nL 152.318445 248.350243 \nL 148.447441 247.64649 \nL 144.576436 246.829982 \nL 140.705432 245.898694 \nL 136.834428 244.850254 \nL 132.963424 243.681915 \nL 129.092419 242.390511 \nL 125.221415 240.972415 \nL 121.350411 239.423473 \nL 117.479407 237.738942 \nL 113.608402 235.913396 \nL 109.737398 233.940626 \nL 105.866394 231.813502 \nL 101.99539 229.523811 \nL 98.124385 227.062047 \nL 81.962345 216.409793 \nL 81.069036 215.841694 \nL 80.175727 215.313304 \nL 79.282419 214.822429 \nL 78.38911 214.367174 \nL 77.495801 213.945895 \nL 76.602493 213.557157 \nL 75.709184 213.199709 \nL 74.815875 212.872455 \nL 73.922567 212.574439 \nL 73.832727 212.547324 \n\" clip-path=\"url(#pf60100c526)\" style=\"fill: none; stroke: #000000; stroke-width: 1.5; stroke-linecap: square\"/>\n   </g>\n   <g id=\"patch_4\">\n    <path d=\"M 57.6 307.584 \nL 57.6 41.472 \n\" style=\"fill: none; stroke: #000000; stroke-width: 0.8; stroke-linejoin: miter; stroke-linecap: square\"/>\n   </g>\n   <g id=\"patch_5\">\n    <path d=\"M 414.72 307.584 \nL 414.72 41.472 \n\" style=\"fill: none; stroke: #000000; stroke-width: 0.8; stroke-linejoin: miter; stroke-linecap: square\"/>\n   </g>\n   <g id=\"patch_6\">\n    <path d=\"M 57.6 307.584 \nL 414.72 307.584 \n\" style=\"fill: none; stroke: #000000; stroke-width: 0.8; stroke-linejoin: miter; stroke-linecap: square\"/>\n   </g>\n   <g id=\"patch_7\">\n    <path d=\"M 57.6 41.472 \nL 414.72 41.472 \n\" style=\"fill: none; stroke: #000000; stroke-width: 0.8; stroke-linejoin: miter; stroke-linecap: square\"/>\n   </g>\n  </g>\n </g>\n <defs>\n  <clipPath id=\"pf60100c526\">\n   <rect x=\"57.6\" y=\"41.472\" width=\"357.12\" height=\"266.112\"/>\n  </clipPath>\n </defs>\n</svg>\n</td></tr><tr><td style='text-align: left'><table><tr><th colspan=2 style='text-align:center'>Profile</th></tr><tr><td style='text-align:left'>chemical_composition</td><td>{&#x27;C&#x27;: 0.0016, &#x27;SI&#x27;: 0.0016, &#x27;MN&#x27;: 0.0069, &#x27;CR&#x27;: 0.0012, &#x27;NI&#x27;: 0.0009, &#x27;CU&#x27;: 0.0017000000000000001, &#x27;P&#x27;: 2e-05, &#x27;S&#x27;: 6.5e-05, &#x27;FE&#x27;: 0.9843000000000001}</td></tr><tr><td style='text-align:left'>classifiers</td><td>{&#x27;generic_elongation&#x27;, &#x27;oval&#x27;, &#x27;swedish_oval&#x27;}</td></tr><tr><td style='text-align:left'>cross_section</td><td><table><tr><th colspan=2 style='text-align:center'>Polygon</th></tr><tr><td style='text-align:left'>area</td><td>0.0014976631456151905</td></tr><tr><td style='text-align:left'>height</td><td>0.027999999999999997</td></tr><tr><td style='text-align:left'>perimeter</td><td>0.1545024092875257</td></tr><tr><td style='text-align:left'>width</td><td>0.06</td></tr></table></td></tr><tr><td style='text-align:left'>density</td><td>7500.0</td></tr><tr><td style='text-align:left'>freiberg_flow_stress_coefficients</td><td>FreibergFlowStressCoefficients(a=2098290000.0, m1=-0.00272, m2=0.22312, m3=0, m4=3e-05, m5=0.00028, m6=0, m7=-0.58508, m8=0.000137, m9=0, baseStrain=0.1, baseStrainRate=0.1)</td></tr><tr><td style='text-align:left'>length</td><td>0.0</td></tr><tr><td style='text-align:left'>material</td><td>[&#x27;steel&#x27;, &#x27;C15&#x27;]</td></tr><tr><td style='text-align:left'>strain</td><td>0</td></tr><tr><td style='text-align:left'>t</td><td>6.0571064266249754</td></tr><tr><td style='text-align:left'>temperature</td><td>1473.15</td></tr></table></td></tr></table>"
     },
     "execution_count": 29,
     "metadata": {},
     "output_type": "execute_result"
    }
   ],
   "source": [
    "specific_heat_capacity_function = interpolate.interp1d(temperature, specific_heat_capacity)\n",
    "\n",
    "\n",
    "@pr.DeformationUnit.Profile.specific_heat_capacity\n",
    "def heat_capacity_interpolated(self: pr.DeformationUnit.Profile):\n",
    "    return specific_heat_capacity_function(self.temperature)\n",
    "\n",
    "\n",
    "sequence = pr.PassSequence([\n",
    "    pr.RollPass(\n",
    "        label=\"K 02/001 - 1\",\n",
    "        roll=pr.Roll(\n",
    "            groove=pr.SwedishOvalGroove(\n",
    "                r1=6e-3,\n",
    "                r2=26e-3,\n",
    "                ground_width=38e-3,\n",
    "                usable_width=60e-3,\n",
    "                depth=7.25e-3\n",
    "            ),\n",
    "            nominal_radius=321e-3 / 2,\n",
    "            rotational_frequency=0.99,\n",
    "\n",
    "        ),\n",
    "        gap=13.5e-3,\n",
    "        coulomb_friction_coefficient=0.4,\n",
    "        back_tension=0,\n",
    "        front_tension=0\n",
    "    ),\n",
    "    pr.Transport(\n",
    "        label=\"I->II\",\n",
    "        duration=6,\n",
    "    )\n",
    "])\n",
    "\n",
    "sequence.solve(profile)"
   ],
   "metadata": {
    "collapsed": false,
    "ExecuteTime": {
     "end_time": "2024-02-20T16:44:52.258807473Z",
     "start_time": "2024-02-20T16:44:52.053554731Z"
    }
   },
   "id": "7f48a357c1ef6039",
   "execution_count": 29
  },
  {
   "cell_type": "code",
   "outputs": [],
   "source": [],
   "metadata": {
    "collapsed": false
   },
   "id": "7d0a827488066fbf"
  }
 ],
 "metadata": {
  "kernelspec": {
   "display_name": "Python 3",
   "language": "python",
   "name": "python3"
  },
  "language_info": {
   "codemirror_mode": {
    "name": "ipython",
    "version": 2
   },
   "file_extension": ".py",
   "mimetype": "text/x-python",
   "name": "python",
   "nbconvert_exporter": "python",
   "pygments_lexer": "ipython2",
   "version": "2.7.6"
  }
 },
 "nbformat": 4,
 "nbformat_minor": 5
}
