{
 "cells": [
  {
   "cell_type": "markdown",
   "source": [
    "# Specific Heat Capacity from pycalphad\n",
    "\n",
    "In this notebook, the interaction between PyRolL and pycalphad is demonstrated. \n",
    "In this example, the calphad method is used to calculate the specific heat capacity of the low-carbon steel C15 (1.0401) using free `tdb` databases provided by [MatCalc Engineering GmbH](https://www.matcalc.at/index.php/databases/open-databases). The measured chemical composition (wt%) of a example can be seen in the following table: \n",
    "\n",
    "| Steel grade  | C    | Si   | Mn   | P     | S      | Fe    |\n",
    "|--------------|------|------|------|-------|--------|-------|\n",
    "| C15 (1.0401) | 0.16 | 0.16 | 0.02 | 0.002 | 0.0065 | 98.43 |\n",
    "\n",
    "Further, thermodynamical database files (`tdb`) for other alloying systems can be found [here](https://avdwgroup.engin.brown.edu/). The specific-heat-capacity is mostly important when considering cooling processes which often follow a hot rolling process. As always, we first import the necessary python modules."
   ],
   "metadata": {
    "collapsed": false
   },
   "id": "68622efa31f5d00"
  },
  {
   "cell_type": "code",
   "outputs": [],
   "source": [
    "import numpy as np\n",
    "import pyroll.core as pr\n",
    "import matplotlib.pyplot as plt\n",
    "import pycalphad.variables as v\n",
    "\n",
    "from pycalphad import equilibrium\n",
    "from pycalphad import Database, Model"
   ],
   "metadata": {
    "collapsed": false,
    "ExecuteTime": {
     "end_time": "2024-02-20T09:22:02.303929359Z",
     "start_time": "2024-02-20T09:22:02.294248726Z"
    }
   },
   "id": "f28ade3e077bf0dd",
   "execution_count": 16
  },
  {
   "cell_type": "markdown",
   "source": [
    "## Conversion of weight-fractions to molar-fractions\n",
    "The industrial standard, how to provide the chemical composition of an alloy is to use weight-fractions. In the scientific realm, however, molar-fractions are more common. Therefore, we need a function which converts weight-fractions to molar fractions. Further, we need a function which calculates the total molar mass of the alloy. These values are needed, since the unit of the specifc-heat-capacity returned by pycalphad has to be converted. $$ {c_P [{J \\over kg K}]}  = {c_P [{J \\over mol K}] \\over m_{molar}[{kg \\over mol}]}  $$"
   ],
   "metadata": {
    "collapsed": false
   },
   "id": "7613fb97edc6b3ed"
  },
  {
   "cell_type": "code",
   "outputs": [],
   "source": [
    " molar_masses_all_elements_gramm_per_mole = {\n",
    "    'H': 1.008, 'He': 4.0026, 'Li': 6.94, 'Be': 9.0122, 'B': 10.81,\n",
    "    'C': 12.011, 'N': 14.007, 'O': 15.999, 'F': 18.998, 'Ne': 20.180,\n",
    "    'Na': 22.990, 'Mg': 24.305, 'Al': 26.982, 'Si': 28.085, 'P': 30.974,\n",
    "    'S': 32.06, 'Cl': 35.45, 'Ar': 39.948, 'K': 39.098, 'Ca': 40.078,\n",
    "    'Sc': 44.956, 'Ti': 47.867, 'V': 50.942, 'Cr': 51.996, 'Mn': 54.938,\n",
    "    'Fe': 55.845, 'Co': 58.933, 'Ni': 58.693, 'Cu': 63.546, 'Zn': 65.38,\n",
    "    'Ga': 69.723, 'Ge': 72.63, 'As': 74.922, 'Se': 78.971, 'Br': 79.904,\n",
    "    'Kr': 83.798, 'Rb': 85.468, 'Sr': 87.62, 'Y': 88.906, 'Zr': 91.224,\n",
    "    'Nb': 92.906, 'Mo': 95.95, 'Tc': 98.0, 'Ru': 101.07, 'Rh': 102.91,\n",
    "    'Pd': 106.42, 'Ag': 107.87, 'Cd': 112.41, 'In': 114.82, 'Sn': 118.71,\n",
    "    'Sb': 121.76, 'Te': 127.6, 'I': 126.9, 'Xe': 131.29, 'Cs': 132.91,\n",
    "    'Ba': 137.33, 'La': 138.91, 'Ce': 140.12, 'Pr': 140.91, 'Nd': 144.24,\n",
    "    'Pm': 145.0, 'Sm': 150.36, 'Eu': 151.96, 'Gd': 157.25, 'Tb': 158.93,\n",
    "    'Dy': 162.5, 'Ho': 164.93, 'Er': 167.26, 'Tm': 168.93, 'Yb': 173.05,\n",
    "    'Lu': 174.97, 'Hf': 178.49, 'Ta': 180.95, 'W': 183.84, 'Re': 186.21,\n",
    "    'Os': 190.23, 'Ir': 192.22, 'Pt': 195.08, 'Au': 196.97, 'Hg': 200.59,\n",
    "    'Tl': 204.38, 'Pb': 207.2, 'Bi': 208.98, 'Po': 209.0, 'At': 210.0,\n",
    "    'Rn': 222.0, 'Fr': 223.0, 'Ra': 226.0, 'Ac': 227.0, 'Th': 232.04,\n",
    "    'Pa': 231.04, 'U': 238.03, 'Np': 237.0, 'Pu': 244.0, 'Am': 243.0,\n",
    "    'Cm': 247.0, 'Bk': 247.0, 'Cf': 251.0, 'Es': 252.0, 'Fm': 257.0,\n",
    "    'Md': 258.0, 'No': 259.0, 'Lr': 266.0\n",
    "}\n",
    "\n",
    "\n",
    "def convert_mass_fractions_to_molar_fractions(mass_fractions: dict[str, float]) -> dict[str, float]:\n",
    "    total_mass_of_alloy = sum(mass_fractions[element] for element in mass_fractions)\n",
    "    molar_fractions = {}\n",
    "\n",
    "    for element in mass_fractions:\n",
    "        try:\n",
    "            molar_fractions[element] = mass_fractions[element] / (\n",
    "                    molar_masses_all_elements_gramm_per_mole[element] * total_mass_of_alloy)\n",
    "        except KeyError:\n",
    "            print(f\"Error: Molar mass not found for element {element}\")\n",
    "\n",
    "    return molar_fractions\n",
    "\n",
    "\n",
    "def molar_mass(mass_fractions: dict[str, float]) -> float:\n",
    "    return (sum(\n",
    "        (mass_fractions[element] / 100.0) * molar_masses_all_elements_gramm_per_mole[element] for element in\n",
    "        mass_fractions)) / 1000\n"
   ],
   "metadata": {
    "collapsed": false,
    "ExecuteTime": {
     "end_time": "2024-02-20T09:22:04.011536218Z",
     "start_time": "2024-02-20T09:22:03.928730840Z"
    }
   },
   "id": "65f5e2f8a9745a5",
   "execution_count": 17
  },
  {
   "cell_type": "markdown",
   "source": [
    "## Definition of incoming profile\n",
    "Now let's define a profile and use it to calculate the molar fractions as well as the molar mass."
   ],
   "metadata": {
    "collapsed": false
   },
   "id": "5128aea5d74ffa20"
  },
  {
   "cell_type": "code",
   "outputs": [],
   "source": [
    "profile = pr.Profile.round(\n",
    "    diameter=50e-3,\n",
    "    temperature=1200 + 273.15,\n",
    "    material=[\"steel\", \"C15\"],\n",
    "    chemical_composition={\n",
    "        \"C\": 0.16,\n",
    "        \"Si\": 0.16,\n",
    "        \"Mn\": 0.02,\n",
    "        \"P\": 0.002,\n",
    "        \"S\": 0.0065,\n",
    "        \"Fe\": 98.43\n",
    "    },\n",
    "    density=7.5e3\n",
    ")"
   ],
   "metadata": {
    "collapsed": false,
    "ExecuteTime": {
     "end_time": "2024-02-20T09:22:05.007915125Z",
     "start_time": "2024-02-20T09:22:04.995849800Z"
    }
   },
   "id": "6a087e4a30f1782a",
   "execution_count": 18
  },
  {
   "cell_type": "code",
   "outputs": [
    {
     "data": {
      "text/plain": "({'C': 0.00013485851986570112,\n  'Si': 5.7674405629586476e-05,\n  'Mn': 3.68548564314986e-06,\n  'P': 6.536876420977821e-07,\n  'S': 2.0525200666124226e-06,\n  'Fe': 0.017843529488963394},\n 0.05504607808)"
     },
     "execution_count": 24,
     "metadata": {},
     "output_type": "execute_result"
    }
   ],
   "source": [
    "molar_fractions = convert_mass_fractions_to_molar_fractions(profile.chemical_composition)\n",
    "total_molar_mass = molar_mass(profile.chemical_composition)\n",
    "\n",
    "molar_fractions, total_molar_mass"
   ],
   "metadata": {
    "collapsed": false,
    "ExecuteTime": {
     "end_time": "2024-02-20T09:22:37.693095831Z",
     "start_time": "2024-02-20T09:22:37.668139994Z"
    }
   },
   "id": "478bf0d8f49bf7cb",
   "execution_count": 24
  },
  {
   "cell_type": "markdown",
   "source": [
    "## Stepped Equilibrium \n",
    "Now we have to calculate a stepped equilibrium using the `pycalphad` package. This equilibrium gives us information about the phase compositions of the alloy at various temperatures between a start and a stop temperature. Further information we have to provide to run the calculations is the atmospheric pressure as well as the number of moles we want to consider. Also, we need information about the expected phases. This information can be gained from literature or a phase diagram. In this case we expect the liquid phase (LIQUID), cementite (CEMENTITE), austenite (FCC_A1) as well as ferrite (BCC_A2) regarding the temperature. At last the composition (chemical elements) of the alloy."
   ],
   "metadata": {
    "collapsed": false
   },
   "id": "a719516d9658b765"
  },
  {
   "cell_type": "code",
   "outputs": [],
   "source": [
    "start_temperature_kelvin = 298.15 + 273.15\n",
    "end_temperature_kelvin = 1700 + 273.15\n",
    "number_of_moles = 1\n",
    "atmospheric_pressure = 101325\n",
    "\n",
    "conditions = {\n",
    "    v.X('C'): molar_fractions['C'],\n",
    "    v.X('SI'): molar_fractions['Si'],\n",
    "    v.X('MN'): molar_fractions['Mn'],\n",
    "    v.X('P'): molar_fractions['P'],\n",
    "    v.X('S'): molar_fractions['S'],\n",
    "    v.N: number_of_moles,\n",
    "    v.P: atmospheric_pressure,\n",
    "    v.T: (start_temperature_kelvin, end_temperature_kelvin, 10)  # temperature (start, stop, step)\n",
    "}\n",
    "db = Database('mc_fe_v2.059.pycalphad.tdb')\n",
    "phases = ['LIQUID', 'FCC_A1', 'BCC_A2', 'CEMENTITE']\n",
    "composition = ['FE', 'C', 'CU', 'MN', 'P', 'S', 'SI', 'VA']\n",
    "eq = equilibrium(db, composition, phases, conditions, output=['heat_capacity', 'degree_of_ordering'])"
   ],
   "metadata": {
    "collapsed": false
   },
   "id": "8eea31823319a38d"
  }
 ],
 "metadata": {
  "kernelspec": {
   "display_name": "Python 3",
   "language": "python",
   "name": "python3"
  },
  "language_info": {
   "codemirror_mode": {
    "name": "ipython",
    "version": 2
   },
   "file_extension": ".py",
   "mimetype": "text/x-python",
   "name": "python",
   "nbconvert_exporter": "python",
   "pygments_lexer": "ipython2",
   "version": "2.7.6"
  }
 },
 "nbformat": 4,
 "nbformat_minor": 5
}
