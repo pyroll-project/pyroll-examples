{
 "cells": [
  {
   "cell_type": "markdown",
   "source": [
    "# Specific Heat Capacity from pycalphad\n",
    "\n",
    "In this notebook, the interaction between PyRolL and pycalphad is demonstrated. \n",
    "In this example, the calphad method is used to calculate the specific heat capacity of the low-carbon steel C15 (1.0401) using free `tdb` databases provided by [MatCalc Engineering GmbH](https://www.matcalc.at/index.php/databases/open-databases). The measured chemical composition (wt%) of a example can be seen in the following table: \n",
    "\n",
    "| Steel grade  | C    | Si   | Mn   | Cr   | Ni   | Cu   | P     | S      | Fe    |\n",
    "|--------------|------|------|------|------|------|------|-------|--------|-------|\n",
    "| C15 (1.0401) | 0.16 | 0.16 | 0.69 | 0.12 | 0.09 | 0.17 | 0.002 | 0.0065 | 98.43 |\n",
    "\n",
    "Further, thermodynamical database files (`tdb`) for other alloying systems can be found [here](https://avdwgroup.engin.brown.edu/). The specific-heat-capacity is mostly important when considering cooling processes which often follow a hot rolling process. As always, we first import the necessary python modules."
   ],
   "metadata": {
    "collapsed": false
   },
   "id": "68622efa31f5d00"
  },
  {
   "cell_type": "code",
   "outputs": [],
   "source": [
    "import numpy as np\n",
    "import pyroll.core as pr\n",
    "import matplotlib.pyplot as plt\n",
    "import pycalphad.variables as v\n",
    "import scipy.interpolate as interpolate\n",
    "\n",
    "from pycalphad import Database\n",
    "from pycalphad import equilibrium\n",
    "from pyroll.freiberg_flow_stress import FreibergFlowStressCoefficients"
   ],
   "metadata": {
    "collapsed": false,
    "ExecuteTime": {
     "end_time": "2024-02-20T20:39:21.323835971Z",
     "start_time": "2024-02-20T20:39:19.036660090Z"
    }
   },
   "id": "f28ade3e077bf0dd",
   "execution_count": 2
  },
  {
   "cell_type": "code",
   "outputs": [
    {
     "name": "stderr",
     "output_type": "stream",
     "text": [
      "/home/christoph/.local/share/virtualenvs/pyroll-examples-YS1GospC/lib/python3.11/site-packages/pycalphad/io/tdb.py:929: UserWarning: The type definition character `%` was defined in the following phases: ['LIQUID', 'FCC_A1', 'BCC_A2', 'H_BCC', 'BCC_DISL', 'HCP_A3', 'ALPHA_MN', 'BETA_MN', 'BETA_RHOMBO_B', 'DIAMOND_A4', 'GRAPHITE', 'BCC_B2', 'CHI_A12', 'CO3MO', 'CO3V', 'COV3', 'CR3MN5', 'G_PHASE', 'LAVES_PHASE', 'MNNI', 'MNNI2', 'MNNI_T3', 'MU_PHASE', 'MU_PHASE_I', 'ETA', 'NITI2', 'PI_PHASE', 'R_PHASE', 'SIGMA', 'FE17Y2', 'NI5Y', 'PDFE_L12', 'PDMN_AF', 'PDMN_P', 'PDMN_B2', 'PD2MN', 'PD3MN', 'PD5MN3', 'PD6FE5MN2', 'CEMENTITE', 'CR2VC2', 'K_CARB', 'KSI_CARBIDE', 'M3C2', 'M6C', 'M7C3', 'M12C', 'M23C6', 'MOC_ETA', 'V3C2', 'WC', 'EPS_CARB', 'ETA_CARB', 'FE24C10', 'KSI_FE5C2', 'ALN', 'ALN_EQU', 'BN_HP4', 'CR3NI2SIN', 'FE4N', 'MN6N4', 'MN6N5', 'MNSIN2', 'SI3N4', 'ZET', 'CRB', 'CR2B', 'CR5B3', 'FEB', 'FENBB', 'FE3NB3B4', 'M2B', 'MNB2', 'MNB4', 'O_MN2B', 'MN3B4', 'MOB', 'MOB2', 'MO2M1B2', 'NBB', 'NB3B2', 'M5B6', 'TIB', 'TIB2', 'TI3B4', 'A_CHALC', 'ANILITE', 'B_CHALC', 'COVELLITE', 'CU2S', 'DIGENITE', 'DISULF', 'DJURLEITE', 'FC_MONO', 'FC_ORTHO', 'FES_P', 'MNS_Q', 'PYRR', 'TIS', 'TI4C2S2', 'CORUND', 'HALITE', 'HF1O2_M', 'HF1O2_T', 'HF1O2_C', 'LA2O3_A', 'LA2O3_H', 'LA2O3_C', 'SIO2', 'SPINEL', 'TIO2', 'TI2O3', 'TRID', 'Y2O3_C', 'Y2O3_H', 'YALO3', 'Y4AL2O9', 'Y2TIO5', 'Y2TI2O7', 'O1_GAS', 'M2P', 'M3P'], but no corresponding TYPE_DEFINITION line was found in the TDB.\n",
      "  warnings.warn(f\"The type definition character `{typechar}` was defined in the following phases: \"\n"
     ]
    }
   ],
   "source": [
    "database = Database('mc_fe_v2.059.pycalphad.tdb')"
   ],
   "metadata": {
    "collapsed": false,
    "ExecuteTime": {
     "end_time": "2024-02-20T20:39:25.704474736Z",
     "start_time": "2024-02-20T20:39:21.327747171Z"
    }
   },
   "id": "376f71c83432be9e",
   "execution_count": 3
  },
  {
   "cell_type": "markdown",
   "source": [
    "## Conversion of weight-fractions to molar-fractions\n",
    "The industrial standard, how to provide the chemical composition of an alloy is to use weight-fractions. In the scientific realm, however, molar-fractions are more common. Therefore, we need a function which converts weight-fractions to molar fractions. This can be handled by the `get_mole_fractions` function of `pycalphad`. Further, one needs to calculate the total molar mass of the alloy. Therefore, a dict with the respective molar masses of each atom is defined."
   ],
   "metadata": {
    "collapsed": false
   },
   "id": "7613fb97edc6b3ed"
  },
  {
   "cell_type": "code",
   "outputs": [],
   "source": [
    "molar_masses_grams_per_mol = {\n",
    "    'H': 1.008, 'HE': 4.0026, 'LI': 6.94, 'BE': 9.0122, 'B': 10.81,\n",
    "    'C': 12.011, 'N': 14.007, 'O': 15.999, 'F': 18.998, 'NE': 20.180,\n",
    "    'NA': 22.990, 'MG': 24.305, 'AL': 26.982, 'SI': 28.085, 'P': 30.974,\n",
    "    'S': 32.06, 'CL': 35.45, 'AR': 39.948, 'K': 39.098, 'CA': 40.078,\n",
    "    'SC': 44.956, 'TI': 47.867, 'V': 50.942, 'CR': 51.996, 'MN': 54.938,\n",
    "    'FE': 55.845, 'CO': 58.933, 'NI': 58.693, 'CU': 63.546, 'ZN': 65.38,\n",
    "    'GA': 69.723, 'GE': 72.63, 'AS': 74.922, 'SE': 78.971, 'BR': 79.904,\n",
    "    'KR': 83.798, 'RB': 85.468, 'SR': 87.62, 'Y': 88.906, 'ZR': 91.224,\n",
    "    'NB': 92.906, 'MO': 95.95, 'TC': 98.0, 'RU': 101.07, 'RH': 102.91,\n",
    "    'PD': 106.42, 'AG': 107.87, 'CD': 112.41, 'IN': 114.82, 'SN': 118.71,\n",
    "    'SB': 121.76, 'TE': 127.6, 'I': 126.9, 'XE': 131.29, 'CS': 132.91,\n",
    "    'BA': 137.33, 'LA': 138.91, 'CE': 140.12, 'PR': 140.91, 'ND': 144.24,\n",
    "    'PM': 145.0, 'SM': 150.36, 'EU': 151.96, 'GD': 157.25, 'TB': 158.93,\n",
    "    'DY': 162.5, 'HO': 164.93, 'ER': 167.26, 'TM': 168.93, 'YB': 173.05,\n",
    "    'LU': 174.97, 'HF': 178.49, 'TA': 180.95, 'W': 183.84, 'RE': 186.21,\n",
    "    'OS': 190.23, 'IR': 192.22, 'PT': 195.08, 'AU': 196.97, 'HG': 200.59,\n",
    "    'TL': 204.38, 'PB': 207.2, 'BI': 208.98, 'PO': 209.0, 'AT': 210.0,\n",
    "    'RN': 222.0, 'FR': 223.0, 'RA': 226.0, 'AC': 227.0, 'TH': 232.04,\n",
    "    'PA': 231.04, 'U': 238.03, 'NP': 237.0, 'PU': 244.0, 'AM': 243.0,\n",
    "    'CM': 247.0, 'BK': 247.0, 'CF': 251.0, 'ES': 252.0, 'FM': 257.0,\n",
    "    'MD': 258.0, 'NO': 259.0, 'LR': 266.0\n",
    "}\n"
   ],
   "metadata": {
    "collapsed": false,
    "ExecuteTime": {
     "end_time": "2024-02-20T20:39:29.375148252Z",
     "start_time": "2024-02-20T20:39:29.358008157Z"
    }
   },
   "id": "70b3c52435a3a458",
   "execution_count": 4
  },
  {
   "cell_type": "markdown",
   "source": [
    "## Definition of incoming profile\n",
    "Now let's define a profile and use it to calculate the molar fractions as well as the molar mass."
   ],
   "metadata": {
    "collapsed": false
   },
   "id": "5128aea5d74ffa20"
  },
  {
   "cell_type": "code",
   "outputs": [],
   "source": [
    "profile = pr.Profile.round(\n",
    "    diameter=50e-3,\n",
    "    temperature=1200 + 273.15,\n",
    "    material=[\"steel\", \"C15\"],\n",
    "    density=7.5e3,\n",
    "    strain=0,\n",
    "    chemical_composition={\n",
    "        \"C\": 0.16 / 100,\n",
    "        \"SI\": 0.16 / 100,\n",
    "        \"MN\": 0.69 / 100,\n",
    "        \"CR\": 0.12 / 100,\n",
    "        \"NI\": 0.09 / 100,\n",
    "        \"CU\": 0.17 / 100,\n",
    "        \"P\": 0.002 / 100,\n",
    "        \"S\": 0.0065/ 100,\n",
    "        \"FE\": 98.43 / 100\n",
    "    },\n",
    "    freiberg_flow_stress_coefficients=FreibergFlowStressCoefficients(\n",
    "        a=2098.29 * 1e6,\n",
    "        m1=-0.00272,\n",
    "        m2=0.22312,\n",
    "        m4=0.00003,\n",
    "        m5=0.00028,\n",
    "        m7=-0.58508,\n",
    "        m8=0.000137,\n",
    "        baseStrain=0.1,\n",
    "        baseStrainRate=0.1\n",
    "    )\n",
    ")"
   ],
   "metadata": {
    "collapsed": false,
    "ExecuteTime": {
     "end_time": "2024-02-20T20:39:30.419793262Z",
     "start_time": "2024-02-20T20:39:30.390144019Z"
    }
   },
   "id": "6a087e4a30f1782a",
   "execution_count": 5
  },
  {
   "cell_type": "code",
   "outputs": [],
   "source": [
    "mass_fractions = {\n",
    "    v.W('C'): profile.chemical_composition['C'],\n",
    "    v.W('CU'): profile.chemical_composition['CU'],\n",
    "    v.W('SI'): profile.chemical_composition['SI'],\n",
    "    v.W('MN'): profile.chemical_composition['MN'],\n",
    "    v.W('CR'): profile.chemical_composition['CR'],\n",
    "    v.W('NI'): profile.chemical_composition['NI'],\n",
    "    v.W('P'): profile.chemical_composition['P'],\n",
    "    v.W('S'): profile.chemical_composition['S'],\n",
    "}\n",
    "\n",
    "mole_fractions = v.get_mole_fractions(mass_fractions=mass_fractions, dependent_species=v.Species('FE'), pure_element_mass_dict=database)\n",
    "mole_mass = sum(profile.chemical_composition[element] * molar_masses_grams_per_mol[element] for element in profile.chemical_composition.keys())"
   ],
   "metadata": {
    "collapsed": false,
    "ExecuteTime": {
     "end_time": "2024-02-20T20:39:31.016921194Z",
     "start_time": "2024-02-20T20:39:31.005655058Z"
    }
   },
   "id": "478bf0d8f49bf7cb",
   "execution_count": 6
  },
  {
   "cell_type": "markdown",
   "source": [
    "## Stepped Equilibrium \n",
    "Now we have to calculate a stepped equilibrium using the `pycalphad` package. This equilibrium gives us information about the phase compositions of the alloy at various temperatures between a start and a stop temperature. Further information we have to provide to run the calculations is the atmospheric pressure as well as the number of moles we want to consider. Also, we need information about the expected phases. This information can be gained from literature or a phase diagram. In this case we expect the liquid phase (LIQUID), cementite (CEMENTITE), austenite (FCC_A1) as well as ferrite (BCC_A2) regarding the temperature. At last the composition (chemical elements) of the alloy."
   ],
   "metadata": {
    "collapsed": false
   },
   "id": "a719516d9658b765"
  },
  {
   "cell_type": "code",
   "outputs": [],
   "source": [
    "start_temperature_kelvin = 20 + 273.15\n",
    "end_temperature_kelvin = 1400 + 273.15\n",
    "number_of_moles = 1\n",
    "atmospheric_pressure = 101325\n",
    "\n",
    "conditions = {\n",
    "    v.X('C'): mole_fractions[v.MoleFraction(v.Species('C'))],\n",
    "    v.X('CU'): mole_fractions[v.MoleFraction(v.Species('CU'))],\n",
    "    v.X('SI'): mole_fractions[v.MoleFraction(v.Species('SI'))],\n",
    "    v.X('MN'): mole_fractions[v.MoleFraction(v.Species('MN'))],\n",
    "    v.X('CR'): mole_fractions[v.MoleFraction(v.Species('CR'))],\n",
    "    v.X('NI'): mole_fractions[v.MoleFraction(v.Species('NI'))],\n",
    "    v.X('P'): mole_fractions[v.MoleFraction(v.Species('P'))],\n",
    "    v.X('S'): mole_fractions[v.MoleFraction(v.Species('S'))],\n",
    "    v.N: number_of_moles,\n",
    "    v.P: atmospheric_pressure,\n",
    "    v.T: (start_temperature_kelvin, end_temperature_kelvin, 10)  # temperature (start, stop, step)\n",
    "}\n",
    "phases = ['LIQUID', 'FCC_A1', 'BCC_A2', 'CEMENTITE']\n",
    "composition = ['FE', 'C', 'CU', 'SI', 'MN', 'CR', 'NI', 'P', 'S', 'VA']\n",
    "eq = equilibrium(database, composition, phases, conditions, output=['heat_capacity'])\n",
    "specific_heat_capacity = (np.squeeze(eq['heat_capacity'].values) / mole_mass) * 1000\n",
    "temperature = eq['T'].values"
   ],
   "metadata": {
    "collapsed": false,
    "ExecuteTime": {
     "end_time": "2024-02-20T20:52:17.196981700Z",
     "start_time": "2024-02-20T20:52:01.022340645Z"
    }
   },
   "id": "8eea31823319a38d",
   "execution_count": 18
  },
  {
   "cell_type": "markdown",
   "source": [
    "## Extracting the specific-heat-capacity \n",
    "Now let's inspect the result. And check if the results are correct, comparing them to values taken from \"Numerical data \n",
    "More methods about how to check if the results are valid, can be taken from the pycalphad documentation which can be found [here](https://pycalphad.org/docs/latest/examples/EquilibriumWithOrdering.html)."
   ],
   "metadata": {
    "collapsed": false
   },
   "id": "a2089dc215e3c3cf"
  },
  {
   "cell_type": "code",
   "outputs": [
    {
     "data": {
      "text/plain": "<Figure size 640x480 with 1 Axes>",
      "image/png": "[encoded data removed]"
     },
     "metadata": {},
     "output_type": "display_data"
    }
   ],
   "source": [
    "fig: plt.Figure = plt.figure()\n",
    "ax: plt.Axes = fig.add_subplot()\n",
    "\n",
    "mean_specific_heat_capacity_spittel = np.array(\n",
    "    [472.11, 484.14, 497.07, 516.92, 541.07, 567.8, 596.65, 627.42, 691.57, 681.08, 686.60, 684.14, 681.68])\n",
    "temperatures_spittel = np.array([20, 100, 200, 300, 400, 500, 600, 700, 800, 900, 1000, 1100, 1200]) + 273.15\n",
    "\n",
    "ax.set_title('C15: Heat capacity over Temperature')\n",
    "ax.set_xlabel(r\"$T$ in $\\mathrm{K}$\")\n",
    "ax.set_ylabel(r\"$c_{p}$ in $\\mathrm{\\frac{kJ}{kg K}}$\")\n",
    "ax.grid(True)\n",
    "ax.set_aspect(\"equal\")\n",
    "ax.plot(temperature, specific_heat_capacity, label=r'$c_{p}$ pycalpad')\n",
    "ax.plot(temperatures_spittel, mean_specific_heat_capacity_spittel, label=r'$c_{p,m}$ Spittel et al.')\n",
    "ax.scatter(temperatures_spittel, mean_specific_heat_capacity_spittel, c='C1')\n",
    "ax.legend()\n",
    "plt.show()"
   ],
   "metadata": {
    "collapsed": false,
    "ExecuteTime": {
     "end_time": "2024-02-20T20:52:26.511048138Z",
     "start_time": "2024-02-20T20:52:26.321009479Z"
    }
   },
   "id": "79c9a9bc0b853a2a",
   "execution_count": 19
  },
  {
   "cell_type": "markdown",
   "source": [
    "## Difference between the data\n",
    "One can clearly see the advantage of the gained specific heat capacity values. As Spittel et al. published mean specific heat capacity values, `pycalphad` calculates the actual specific heat capacity values. The double peak at around 1000 K arises due to the curie temperature being passed and later the phase change from austenite to ferrite taking place. So one can finally state that when just taking into account the hot forming process, usage of mean specific heat transfer values yields a limited error. When analysing \"warm\" rolling processes or cooling processes, usage of the specific heat capacity is more accurate than a mean value.\n",
    "\n",
    "## Usage in PyRolL\n",
    "To use the specific heat capacity, we will interpolate the function and provide it as a hook for the profile."
   ],
   "metadata": {
    "collapsed": false
   },
   "id": "4335185550839220"
  },
  {
   "cell_type": "code",
   "outputs": [
    {
     "data": {
      "text/plain": "array(653.28634419)"
     },
     "execution_count": 22,
     "metadata": {},
     "output_type": "execute_result"
    }
   ],
   "source": [
    "specific_heat_capacity_function = interpolate.interp1d(temperature, specific_heat_capacity)\n",
    "\n",
    "@pr.Profile.specific_heat_capacity\n",
    "def heat_capacity_interpolated(self: pr.Profile):\n",
    "    return specific_heat_capacity_function(self.temperature)\n",
    "\n",
    "sequence = pr.PassSequence([\n",
    "    pr.RollPass(\n",
    "        label=\"K 02/001 - 1\",\n",
    "        roll=pr.Roll(\n",
    "            groove=pr.SwedishOvalGroove(\n",
    "                r1=6e-3,\n",
    "                r2=26e-3,\n",
    "                ground_width=38e-3,\n",
    "                usable_width=60e-3,\n",
    "                depth=7.25e-3\n",
    "            ),\n",
    "            nominal_radius=321e-3 / 2,\n",
    "            rotational_frequency=0.99,\n",
    "\n",
    "        ),\n",
    "        gap=13.5e-3,\n",
    "        coulomb_friction_coefficient=0.4,\n",
    "        back_tension=0,\n",
    "        front_tension=0\n",
    "    ),\n",
    "    pr.Transport(\n",
    "        label=\"I->II\",\n",
    "        duration=6,\n",
    "    )\n",
    "])\n",
    "\n",
    "sequence.solve(profile)"
   ],
   "metadata": {
    "collapsed": false,
    "ExecuteTime": {
     "end_time": "2024-02-20T20:52:47.308811596Z",
     "start_time": "2024-02-20T20:52:47.255038230Z"
    }
   },
   "id": "7f48a357c1ef6039",
   "execution_count": 22
  }
 ],
 "metadata": {
  "kernelspec": {
   "display_name": "Python 3",
   "language": "python",
   "name": "python3"
  },
  "language_info": {
   "codemirror_mode": {
    "name": "ipython",
    "version": 2
   },
   "file_extension": ".py",
   "mimetype": "text/x-python",
   "name": "python",
   "nbconvert_exporter": "python",
   "pygments_lexer": "ipython2",
   "version": "2.7.6"
  }
 },
 "nbformat": 4,
 "nbformat_minor": 5
}
