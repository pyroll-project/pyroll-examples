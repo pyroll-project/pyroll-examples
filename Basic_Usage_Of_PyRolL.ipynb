{
 "cells": [
  {
   "cell_type": "markdown",
   "metadata": {
    "extensions": {
     "jupyter_dashboards": {
      "activeView": "grid_default",
      "views": {
       "grid_default": {
        "col": null,
        "height": 2,
        "hidden": true,
        "locked": true,
        "row": null,
        "width": 2
       }
      }
     }
    }
   },
   "source": [
    "# PyRoll Basic Usage Notebook"
   ]
  },
  {
   "cell_type": "markdown",
   "metadata": {
    "extensions": {
     "jupyter_dashboards": {
      "activeView": "grid_default",
      "views": {
       "grid_default": {
        "col": null,
        "height": 2,
        "hidden": true,
        "locked": true,
        "row": null,
        "width": 2
       }
      }
     }
    }
   },
   "source": [
    "This Notebook explains the basic usage of PyRoll and serves accordingly as a basic user interface aside the command line interface.\n",
    "The usage of the command line interface is not described here, since the library is used directly from Python code.\n",
    "The notebook uses aside the core library several basic plugins, so the provided configuration should be suitable for a first estimation of a rolling process."
   ]
  },
  {
   "cell_type": "markdown",
   "metadata": {
    "extensions": {
     "jupyter_dashboards": {
      "activeView": "grid_default",
      "views": {
       "grid_default": {
        "col": null,
        "height": 2,
        "hidden": true,
        "locked": true,
        "row": null,
        "width": 2
       }
      }
     }
    }
   },
   "source": [
    "## Initialization and Configuration\n",
    "\n",
    "Import the core library and a bunch of plugins."
   ]
  },
  {
   "cell_type": "code",
   "execution_count": 1,
   "metadata": {
    "extensions": {
     "jupyter_dashboards": {
      "activeView": "grid_default",
      "views": {
       "grid_default": {
        "col": null,
        "height": 2,
        "hidden": true,
        "locked": true,
        "row": null,
        "width": 2
       }
      }
     }
    },
    "ExecuteTime": {
     "end_time": "2023-09-01T12:06:07.650427715Z",
     "start_time": "2023-09-01T12:06:06.470628472Z"
    }
   },
   "outputs": [],
   "source": [
    "import pyroll.basic as pr"
   ]
  },
  {
   "cell_type": "markdown",
   "metadata": {
    "extensions": {
     "jupyter_dashboards": {
      "activeView": "grid_default",
      "views": {
       "grid_default": {
        "col": null,
        "height": 2,
        "hidden": true,
        "locked": true,
        "row": null,
        "width": 2
       }
      }
     }
    }
   },
   "source": [
    "Import additional libraries and make some basic configuration."
   ]
  },
  {
   "cell_type": "code",
   "execution_count": 2,
   "metadata": {
    "extensions": {
     "jupyter_dashboards": {
      "activeView": "grid_default",
      "views": {
       "grid_default": {
        "col": null,
        "height": 2,
        "hidden": true,
        "locked": true,
        "row": null,
        "width": 2
       }
      }
     }
    },
    "ExecuteTime": {
     "end_time": "2023-09-01T12:06:07.692635232Z",
     "start_time": "2023-09-01T12:06:07.688901824Z"
    }
   },
   "outputs": [],
   "source": [
    "import pathlib\n",
    "import matplotlib.pyplot as plt\n",
    "import numpy as np\n",
    "import ipywidgets as w\n",
    "import logging\n",
    "import sys\n",
    "import IPython.display as d\n",
    "\n",
    "logging.basicConfig(stream=sys.stdout, format='[%(levelname)s] %(name)s: %(message)s')\n",
    "logging.getLogger(\"pyroll\").setLevel(logging.INFO)"
   ]
  },
  {
   "cell_type": "markdown",
   "metadata": {
    "extensions": {
     "jupyter_dashboards": {
      "activeView": "grid_default",
      "views": {
       "grid_default": {
        "col": null,
        "height": 2,
        "hidden": true,
        "locked": true,
        "row": null,
        "width": 2
       }
      }
     }
    }
   },
   "source": [
    "## Definition of Initial Workpiece (Profile)\n",
    "\n",
    "With the following class constructor on defines the state of the workpiece that is fed into the first unit of the rolling sequence.\n",
    "It holds geometrical values as well as material data.\n",
    "\n",
    "The example case is a square-shaped profile that can originate for example from a continuous casting plant or from another rolling line.\n",
    "The `box`-constructor of `Profile` is used, because it allows the dimensioning by width and height, whereas `Profile.square` allows for dimensioning by the length of the diagonal."
   ]
  },
  {
   "cell_type": "code",
   "execution_count": 3,
   "metadata": {
    "extensions": {
     "jupyter_dashboards": {
      "activeView": "grid_default",
      "views": {
       "grid_default": {
        "col": null,
        "height": 2,
        "hidden": true,
        "locked": true,
        "row": null,
        "width": 2
       }
      }
     }
    },
    "ExecuteTime": {
     "end_time": "2023-09-01T12:06:07.699522769Z",
     "start_time": "2023-09-01T12:06:07.695992002Z"
    }
   },
   "outputs": [],
   "source": [
    "in_profile = pr.Profile.square(\n",
    "    side=45e-3,\n",
    "    corner_radius=3e-3,\n",
    "    temperature=1100 + 273.15,\n",
    "    strain=0,\n",
    "    material=\"C45\",\n",
    "    density=7.5e3,\n",
    "    thermal_capacity=690,\n",
    ")"
   ]
  },
  {
   "cell_type": "markdown",
   "metadata": {
    "extensions": {
     "jupyter_dashboards": {
      "activeView": "grid_default",
      "views": {
       "grid_default": {
        "col": null,
        "height": 2,
        "hidden": true,
        "locked": true,
        "row": null,
        "width": 2
       }
      }
     }
    }
   },
   "source": [
    "Lets plot the profile:"
   ]
  },
  {
   "cell_type": "code",
   "execution_count": 4,
   "metadata": {
    "extensions": {
     "jupyter_dashboards": {
      "activeView": "grid_default",
      "views": {
       "grid_default": {
        "col": 0,
        "height": 15,
        "hidden": false,
        "locked": true,
        "row": 0,
        "width": 11
       }
      }
     }
    },
    "tags": [],
    "ExecuteTime": {
     "end_time": "2023-09-01T12:06:08.050825260Z",
     "start_time": "2023-09-01T12:06:07.701932057Z"
    }
   },
   "outputs": [
    {
     "data": {
      "text/plain": "<Figure size 640x480 with 1 Axes>",
      "image/png": "[encoded data removed]"
     },
     "metadata": {},
     "output_type": "display_data"
    }
   ],
   "source": [
    "fig: plt.Figure = plt.figure()\n",
    "ax: plt.Axes = fig.add_subplot()\n",
    "\n",
    "ax.set_title(r\"The Initial Profile\")\n",
    "ax.set_xlabel(r\"$z$ in $\\mathrm{mm}$\")\n",
    "ax.set_ylabel(r\"$y$ in $\\mathrm{mm}$\")\n",
    "ax.grid(True)\n",
    "ax.set_aspect(\"equal\")\n",
    "\n",
    "ax.fill(*in_profile.cross_section.exterior.xy, alpha=0.5)\n",
    "plt.show()"
   ]
  },
  {
   "cell_type": "markdown",
   "metadata": {
    "extensions": {
     "jupyter_dashboards": {
      "activeView": "grid_default",
      "views": {
       "grid_default": {
        "col": null,
        "height": 2,
        "hidden": true,
        "locked": true,
        "row": null,
        "width": 2
       }
      }
     }
    }
   },
   "source": [
    "## Flow Stress Curve\n",
    "\n",
    "Additionally, a flow stress model is needed for determining forces and torques.\n",
    "The Freiberg Flow Stress Model calculates the flow stress according to the following function:\n",
    "\n",
    "$$\n",
    "k_\\mathrm{f} \\left( \\varphi, \\dot{\\varphi}, \\vartheta \\right) = A\\exp\\left(m_1 \\vartheta\\right) \\vartheta^{m_9}\n",
    "\\varphi^{m_2} \\exp\\left( \\frac{m_4}{\\varphi} \\right)\n",
    "\\left(1 + \\varphi \\right)^{m_5\\vartheta+m_6} \\exp\\left(m_7 \\varphi\\right)\n",
    "\\dot{\\varphi}^{m_3 + m_8 \\vartheta}\n",
    "$$\n",
    "\n",
    "The model coefficients are defined with the following object:"
   ]
  },
  {
   "cell_type": "code",
   "execution_count": 5,
   "metadata": {
    "extensions": {
     "jupyter_dashboards": {
      "activeView": "grid_default",
      "views": {
       "grid_default": {
        "col": null,
        "height": 2,
        "hidden": true,
        "locked": true,
        "row": null,
        "width": 2
       }
      }
     }
    },
    "ExecuteTime": {
     "end_time": "2023-09-01T12:06:08.051521529Z",
     "start_time": "2023-09-01T12:06:08.047543481Z"
    }
   },
   "outputs": [],
   "source": [
    "from pyroll.freiberg_flow_stress import FreibergFlowStressCoefficients, flow_stress\n",
    "\n",
    "freiberg_flow_stress_coefficients = FreibergFlowStressCoefficients(\n",
    "    a=3268.49 * 1e6,\n",
    "    m1=-0.00267855,\n",
    "    m2=0.34446,\n",
    "    m4=0.000551814,\n",
    "    m5=-0.00132042,\n",
    "    m7=0.0166334,\n",
    "    m8=0.000149907,\n",
    "    baseStrain=0.1,\n",
    "    baseStrainRate=0.1\n",
    ")\n",
    "\n",
    "in_profile.freiberg_flow_stress_coefficients = freiberg_flow_stress_coefficients"
   ]
  },
  {
   "cell_type": "markdown",
   "metadata": {
    "extensions": {
     "jupyter_dashboards": {
      "activeView": "grid_default",
      "views": {
       "grid_default": {
        "col": null,
        "height": 2,
        "hidden": true,
        "locked": true,
        "row": null,
        "width": 2
       }
      }
     }
    }
   },
   "source": [
    "The flow curve shows up like that:"
   ]
  },
  {
   "cell_type": "code",
   "execution_count": 6,
   "metadata": {
    "extensions": {
     "jupyter_dashboards": {
      "activeView": "grid_default",
      "views": {
       "grid_default": {
        "col": null,
        "height": 2,
        "hidden": true,
        "locked": true,
        "row": null,
        "width": 2
       }
      }
     }
    },
    "ExecuteTime": {
     "end_time": "2023-09-01T12:06:08.367770601Z",
     "start_time": "2023-09-01T12:06:08.066252479Z"
    }
   },
   "outputs": [
    {
     "data": {
      "text/plain": "<Figure size 640x480 with 1 Axes>",
      "image/png": "[encoded data removed]"
     },
     "metadata": {},
     "output_type": "display_data"
    }
   ],
   "source": [
    "fig: plt.Figure = plt.figure()\n",
    "ax: plt.Axes = fig.add_subplot()\n",
    "\n",
    "ax.set_title(r\"Flow Stress in Dependence on Temperature ($\\dot{\\varphi} = 1 \\mathrm{s}^{-1}$)\")\n",
    "ax.set_xlabel(\"Strain $\\phi$\")\n",
    "ax.set_ylabel(\"Flow Stress $k_f$ in MPa\")\n",
    "ax.grid(True)\n",
    "\n",
    "strains = np.linspace(0, 1.2, 100)\n",
    "\n",
    "for temp in [1073, 1173, 1273, 1373, 1473]:\n",
    "    ax.plot(strains, flow_stress(freiberg_flow_stress_coefficients, strains, 1, temp) / 1e6,\n",
    "            label=rf\"$T = {temp} \\mathrm{{K}}$\")\n",
    "\n",
    "ax.legend()\n",
    "\n",
    "plt.show()"
   ]
  },
  {
   "cell_type": "code",
   "execution_count": 7,
   "metadata": {
    "extensions": {
     "jupyter_dashboards": {
      "activeView": "grid_default",
      "views": {
       "grid_default": {
        "col": null,
        "height": 2,
        "hidden": true,
        "locked": true,
        "row": null,
        "width": 2
       }
      }
     }
    },
    "ExecuteTime": {
     "end_time": "2023-09-01T12:06:08.622007378Z",
     "start_time": "2023-09-01T12:06:08.381097722Z"
    }
   },
   "outputs": [
    {
     "data": {
      "text/plain": "<Figure size 640x480 with 1 Axes>",
      "image/png": "[encoded data removed]"
     },
     "metadata": {},
     "output_type": "display_data"
    }
   ],
   "source": [
    "fig: plt.Figure = plt.figure()\n",
    "ax: plt.Axes = fig.add_subplot()\n",
    "\n",
    "ax.set_title(r\"Flow Stress in Dependence on Strain Rate ($T = 1273 \\mathrm{K}$)\")\n",
    "ax.set_xlabel(\"Strain $\\phi$\")\n",
    "ax.set_ylabel(\"Flow Stress $k_f$ in MPa\")\n",
    "ax.grid(True)\n",
    "\n",
    "strains = np.linspace(0, 1.2, 100)\n",
    "\n",
    "for rate in [0.1, 1, 10, 100]:\n",
    "    ax.plot(strains, flow_stress(freiberg_flow_stress_coefficients, strains, rate, 1273) / 1e6,\n",
    "            label=rf\"$\\dot{{\\varphi}} = {rate} \\mathrm{{s}}^{{-1}}$\")\n",
    "\n",
    "ax.legend()\n",
    "\n",
    "plt.show()"
   ]
  },
  {
   "cell_type": "code",
   "execution_count": 8,
   "metadata": {
    "extensions": {
     "jupyter_dashboards": {
      "activeView": "grid_default",
      "views": {
       "grid_default": {
        "col": 0,
        "height": 17,
        "hidden": true,
        "locked": true,
        "row": 15,
        "width": 12
       }
      }
     }
    },
    "tags": [],
    "ExecuteTime": {
     "end_time": "2023-09-01T12:06:08.874221794Z",
     "start_time": "2023-09-01T12:06:08.639740040Z"
    }
   },
   "outputs": [
    {
     "data": {
      "text/plain": "<Figure size 640x480 with 1 Axes>",
      "image/png": "[encoded data removed]"
     },
     "metadata": {},
     "output_type": "display_data"
    },
    {
     "data": {
      "text/plain": "interactive(children=(FloatLogSlider(value=1.0, description='strain_rate', max=2.0, min=-1.0), IntSlider(value…",
      "application/vnd.jupyter.widget-view+json": {
       "version_major": 2,
       "version_minor": 0,
       "model_id": "8264f37b58c04286afb8f540b3ec9342"
      }
     },
     "metadata": {},
     "output_type": "display_data"
    }
   ],
   "source": [
    "fig: plt.Figure = plt.figure()\n",
    "ax: plt.Axes = fig.add_subplot()\n",
    "\n",
    "plt.ioff()\n",
    "\n",
    "ax.set_title(r\"Flow Stress in Dependence on Strain Rate ($T = 1273 \\mathrm{K}$)\")\n",
    "ax.set_xlabel(\"Strain $\\phi$\")\n",
    "ax.set_ylabel(\"Flow Stress $k_f$ in MPa\")\n",
    "ax.grid(True)\n",
    "\n",
    "strains = np.linspace(0, 1.2, 100)\n",
    "line = ax.plot(strains, flow_stress(freiberg_flow_stress_coefficients, strains, 1, 1273) / 1e6)[0]\n",
    "\n",
    "\n",
    "@w.interact(\n",
    "    temperature=(1073, 1473, 10),\n",
    "    strain_rate=w.FloatLogSlider(min=-1, max=2, base=10)\n",
    ")\n",
    "def interactive_flow_stress_plot(strain_rate, temperature):\n",
    "    data = flow_stress(freiberg_flow_stress_coefficients, strains, strain_rate, temperature) / 1e6\n",
    "    line.set_ydata(data)\n",
    "    upper = np.max(data) * 1.2\n",
    "    if upper > ax.get_ylim()[1]:\n",
    "        ax.set_ylim(0, upper)\n",
    "    fig.canvas.draw()\n",
    "\n",
    "\n",
    "plt.show()"
   ]
  },
  {
   "cell_type": "markdown",
   "metadata": {
    "extensions": {
     "jupyter_dashboards": {
      "activeView": "grid_default",
      "views": {
       "grid_default": {
        "col": 0,
        "height": 6,
        "hidden": true,
        "locked": true,
        "row": 32,
        "width": 12
       }
      }
     }
    },
    "tags": []
   },
   "source": [
    "## The Pass Sequence\n",
    "\n",
    "The sequence of roll passes and transport ranges is defined by a list of units.\n",
    "The sequence shown here represents an experimental plant at the Institute of Metals Forming of the TU Bergakademie Freiberg.\n",
    "The plant uses three 3-high rolling stands with slightly different diameters of each roll.\n",
    "However, PyRoll is currently only able to simulate symmetrical passes, so the average diameter is used here."
   ]
  },
  {
   "cell_type": "code",
   "execution_count": 9,
   "metadata": {
    "extensions": {
     "jupyter_dashboards": {
      "activeView": "grid_default",
      "views": {
       "grid_default": {
        "col": null,
        "height": 2,
        "hidden": true,
        "locked": true,
        "row": null,
        "width": 2
       }
      }
     }
    },
    "ExecuteTime": {
     "end_time": "2023-09-01T12:06:08.875049360Z",
     "start_time": "2023-09-01T12:06:08.851164203Z"
    }
   },
   "outputs": [],
   "source": [
    "mean_roll_radius_1_upper = (328e-3 + 324e-3) / 2 / 2\n",
    "mean_roll_radius_1_lower = (324e-3 + 320e-3) / 2 / 2\n",
    "mean_roll_radius_2_upper = (299e-3 + 297e-3) / 2 / 2\n",
    "mean_roll_radius_2_lower = (297e-3 + 295e-3) / 2 / 2\n",
    "mean_roll_radius_3_upper = (280e-3 + 278e-3) / 2 / 2\n",
    "mean_roll_radius_3_lower = (278e-3 + 276e-3) / 2 / 2"
   ]
  },
  {
   "cell_type": "markdown",
   "metadata": {
    "extensions": {
     "jupyter_dashboards": {
      "activeView": "grid_default",
      "views": {
       "grid_default": {
        "col": null,
        "height": 2,
        "hidden": true,
        "locked": true,
        "row": null,
        "width": 2
       }
      }
     }
    }
   },
   "source": [
    "Since the workpiece is fed into the next pass by hand, an average transport time is assumed between the passes, in which the workpiece is cooling down a bit."
   ]
  },
  {
   "cell_type": "code",
   "execution_count": 10,
   "metadata": {
    "extensions": {
     "jupyter_dashboards": {
      "activeView": "grid_default",
      "views": {
       "grid_default": {
        "col": null,
        "height": 2,
        "hidden": true,
        "locked": true,
        "row": null,
        "width": 2
       }
      }
     }
    },
    "ExecuteTime": {
     "end_time": "2023-09-01T12:06:08.875421760Z",
     "start_time": "2023-09-01T12:06:08.868197711Z"
    }
   },
   "outputs": [],
   "source": [
    "transport_duration = 2"
   ]
  },
  {
   "cell_type": "markdown",
   "metadata": {
    "extensions": {
     "jupyter_dashboards": {
      "activeView": "grid_default",
      "views": {
       "grid_default": {
        "col": null,
        "height": 2,
        "hidden": true,
        "locked": true,
        "row": null,
        "width": 2
       }
      }
     }
    }
   },
   "source": [
    "The following cell defines the sequence.\n",
    "The sequence starts with a few Square-Diamond passes and continues with Square-Oval passes.\n",
    "The passes are enumerated by roman numbers and labeled with their type. This is just for human identification in display and has no further technical use in PyRoll."
   ]
  },
  {
   "cell_type": "code",
   "execution_count": 11,
   "metadata": {
    "extensions": {
     "jupyter_dashboards": {
      "activeView": "grid_default",
      "views": {
       "grid_default": {
        "col": null,
        "height": 2,
        "hidden": true,
        "locked": true,
        "row": null,
        "width": 2
       }
      }
     }
    },
    "ExecuteTime": {
     "end_time": "2023-09-01T12:06:08.918407250Z",
     "start_time": "2023-09-01T12:06:08.868646114Z"
    }
   },
   "outputs": [],
   "source": [
    "sequence = pr.PassSequence([\n",
    "    pr.RollPass(\n",
    "        label=\"Raute I\",\n",
    "        roll=pr.Roll(\n",
    "            groove=pr.DiamondGroove(\n",
    "                usable_width=76.55e-3,\n",
    "                tip_depth=22.1e-3,\n",
    "                r1=12e-3,\n",
    "                r2=8e-3\n",
    "            ),\n",
    "            nominal_radius=mean_roll_radius_1_lower,\n",
    "            poissons_ratio=0.3,\n",
    "            elastic_modulus=210e9\n",
    "        ),\n",
    "        velocity=1,\n",
    "        gap=3e-3,\n",
    "    ),\n",
    "    pr.Transport(\n",
    "        duration=transport_duration\n",
    "    ),\n",
    "    pr.RollPass(\n",
    "        label=\"Quadrat II\",\n",
    "        roll=pr.Roll(\n",
    "            groove=pr.SquareGroove(\n",
    "                usable_width=52.7e-3,\n",
    "                tip_depth=25.95e-3,\n",
    "                r1=8e-3,\n",
    "                r2=6e-3\n",
    "            ),\n",
    "            nominal_radius=mean_roll_radius_1_upper,\n",
    "            poissons_ratio=0.3,\n",
    "            elastic_modulus=210e9\n",
    "        ),\n",
    "        velocity=1,\n",
    "        gap=3e-3,\n",
    "    ),\n",
    "    pr.Transport(\n",
    "        duration=transport_duration\n",
    "    ),\n",
    "    pr.RollPass(\n",
    "        label=\"Raute III\",\n",
    "        roll=pr.Roll(\n",
    "            groove=pr.DiamondGroove(\n",
    "                usable_width=58.3e-3,\n",
    "                tip_depth=16.85e-3,\n",
    "                r1=7e-3,\n",
    "                r2=8e-3\n",
    "            ),\n",
    "            nominal_radius=mean_roll_radius_1_lower,\n",
    "            poissons_ratio=0.3,\n",
    "            elastic_modulus=210e9\n",
    "        ),\n",
    "        velocity=1,\n",
    "        gap=3e-3,\n",
    "    ),\n",
    "    pr.Transport(\n",
    "        duration=transport_duration\n",
    "    ),\n",
    "    pr.RollPass(\n",
    "        label=\"Quadrat IV\",\n",
    "        roll=pr.Roll(\n",
    "            groove=pr.SquareGroove(\n",
    "                usable_width=40.74e-3,\n",
    "                tip_depth=20.05e-3,\n",
    "                r1=7e-3,\n",
    "                r2=5e-3\n",
    "            ),\n",
    "            nominal_radius=mean_roll_radius_1_upper,\n",
    "            poissons_ratio=0.3,\n",
    "            elastic_modulus=210e9\n",
    "        ),\n",
    "        velocity=1,\n",
    "        gap=3e-3,\n",
    "    ),\n",
    "    pr.Transport(\n",
    "        duration=transport_duration\n",
    "    ),\n",
    "    pr.RollPass(\n",
    "        label=\"Oval V\",\n",
    "        roll=pr.Roll(\n",
    "            groove=pr.CircularOvalGroove(\n",
    "                depth=7.25e-3,\n",
    "                r1=6e-3,\n",
    "                r2=44.5e-3\n",
    "            ),\n",
    "            nominal_radius=mean_roll_radius_1_lower,\n",
    "            poissons_ratio=0.3,\n",
    "            elastic_modulus=210e9\n",
    "        ),\n",
    "        velocity=1,\n",
    "        gap=3e-3,\n",
    "    ),\n",
    "    pr.Transport(\n",
    "        duration=transport_duration\n",
    "    ),\n",
    "    pr.RollPass(\n",
    "        label=\"Quadrat VI\",\n",
    "        roll=pr.Roll(\n",
    "            groove=pr.SquareGroove(\n",
    "                usable_width=29.64e-3,\n",
    "                tip_depth=14.625e-3,\n",
    "                r1=6e-3,\n",
    "                r2=4e-3\n",
    "            ),\n",
    "            nominal_radius=mean_roll_radius_1_upper,\n",
    "            poissons_ratio=0.3,\n",
    "            elastic_modulus=210e9\n",
    "        ),\n",
    "        velocity=1,\n",
    "        gap=3e-3,\n",
    "    ),\n",
    "    pr.Transport(\n",
    "        duration=transport_duration\n",
    "    ),\n",
    "    pr.RollPass(\n",
    "        label=\"Oval VII\",\n",
    "        roll=pr.Roll(\n",
    "            groove=pr.CircularOvalGroove(\n",
    "                depth=5.05e-3,\n",
    "                r1=7e-3,\n",
    "                r2=33e-3\n",
    "            ),\n",
    "            nominal_radius=mean_roll_radius_1_lower,\n",
    "            poissons_ratio=0.3,\n",
    "            elastic_modulus=210e9\n",
    "        ),\n",
    "        velocity=1,\n",
    "        gap=3e-3,\n",
    "    ),\n",
    "    pr.Transport(\n",
    "        duration=transport_duration\n",
    "    ),\n",
    "    pr.RollPass(\n",
    "        label=\"Quadrat VIII\",\n",
    "        roll=pr.Roll(\n",
    "            groove=pr.SquareGroove(\n",
    "                usable_width=21.54e-3,\n",
    "                tip_depth=10.6e-3,\n",
    "                r1=5e-3,\n",
    "                r2=3e-3\n",
    "            ),\n",
    "            nominal_radius=mean_roll_radius_1_upper,\n",
    "            poissons_ratio=0.3,\n",
    "            elastic_modulus=210e9\n",
    "        ),\n",
    "        velocity=1,\n",
    "        gap=3e-3,\n",
    "    ),\n",
    "    pr.Transport(\n",
    "        duration=transport_duration\n",
    "    ),\n",
    "    pr.RollPass(\n",
    "        label=\"Oval IX\",\n",
    "        roll=pr.Roll(\n",
    "            groove=pr.CircularOvalGroove(\n",
    "                depth=4.43e-3,\n",
    "                r1=6e-3,\n",
    "                r2=25.5e-3\n",
    "            ),\n",
    "            nominal_radius=mean_roll_radius_2_lower,\n",
    "            poissons_ratio=0.3,\n",
    "            elastic_modulus=210e9\n",
    "        ),\n",
    "        velocity=1,\n",
    "        gap=1e-3,\n",
    "    ),\n",
    "    pr.Transport(\n",
    "        duration=transport_duration\n",
    "    ),\n",
    "    pr.RollPass(\n",
    "        label=\"Fertigrund Xa\",\n",
    "        roll=pr.Roll(\n",
    "            groove=pr.RoundGroove(\n",
    "                r1=2e-3,\n",
    "                r2=15.8e-3 / 2,\n",
    "                depth=7.65e-3\n",
    "            ),\n",
    "            nominal_radius=mean_roll_radius_2_upper,\n",
    "            poissons_ratio=0.3,\n",
    "            elastic_modulus=210e9\n",
    "        ),\n",
    "        velocity=1,\n",
    "        gap=0.5e-3,\n",
    "    ),\n",
    "])"
   ]
  },
  {
   "cell_type": "markdown",
   "metadata": {
    "extensions": {
     "jupyter_dashboards": {
      "activeView": "grid_default",
      "views": {
       "grid_default": {
        "col": null,
        "height": 2,
        "hidden": true,
        "locked": true,
        "row": null,
        "width": 2
       }
      }
     }
    }
   },
   "source": [
    "## Running the Solution Algorithm\n",
    "\n",
    "Once we defined the initial profile and the sequence, the `solve()` method is used to fire the simulation algorithm."
   ]
  },
  {
   "cell_type": "code",
   "execution_count": 12,
   "metadata": {
    "extensions": {
     "jupyter_dashboards": {
      "activeView": "grid_default",
      "views": {
       "grid_default": {
        "col": null,
        "height": 2,
        "hidden": true,
        "locked": true,
        "row": null,
        "width": 2
       }
      }
     }
    },
    "ExecuteTime": {
     "end_time": "2023-09-01T12:06:09.934529359Z",
     "start_time": "2023-09-01T12:06:08.908668494Z"
    }
   },
   "outputs": [
    {
     "name": "stdout",
     "output_type": "stream",
     "text": [
      "[INFO] pyroll.core.PassSequence: Started solving of PassSequence.\n",
      "[INFO] pyroll.core.RollPass: Started solving of RollPass 'Raute I'.\n",
      "[INFO] pyroll.core.Rotator: Started solving of Rotator 'Auto-Rotator for RollPass 'Raute I''.\n",
      "[INFO] pyroll.core.Rotator: Finished solving of Rotator 'Auto-Rotator for RollPass 'Raute I'' after 2 iterations.\n",
      "[INFO] pyroll.core.Rotator: Solution took 0.003 s.\n",
      "[INFO] pyroll.core.RollPass: Finished solving of RollPass 'Raute I' after 7 iterations.\n",
      "[INFO] pyroll.core.RollPass: Solution took 0.066 s.\n",
      "[INFO] pyroll.core.Transport: Started solving of Transport.\n",
      "[INFO] pyroll.core.Transport: Finished solving of Transport after 2 iterations.\n",
      "[INFO] pyroll.core.Transport: Solution took 0.003 s.\n",
      "[INFO] pyroll.core.RollPass: Started solving of RollPass 'Quadrat II'.\n",
      "[INFO] pyroll.core.Rotator: Started solving of Rotator 'Auto-Rotator for RollPass 'Quadrat II''.\n",
      "[INFO] pyroll.core.Rotator: Finished solving of Rotator 'Auto-Rotator for RollPass 'Quadrat II'' after 2 iterations.\n",
      "[INFO] pyroll.core.Rotator: Solution took 0.004 s.\n",
      "[INFO] pyroll.core.RollPass: Finished solving of RollPass 'Quadrat II' after 7 iterations.\n",
      "[INFO] pyroll.core.RollPass: Solution took 0.061 s.\n",
      "[INFO] pyroll.core.Transport: Started solving of Transport.\n",
      "[INFO] pyroll.core.Transport: Finished solving of Transport after 2 iterations.\n",
      "[INFO] pyroll.core.Transport: Solution took 0.003 s.\n",
      "[INFO] pyroll.core.RollPass: Started solving of RollPass 'Raute III'.\n",
      "[INFO] pyroll.core.Rotator: Started solving of Rotator 'Auto-Rotator for RollPass 'Raute III''.\n",
      "[INFO] pyroll.core.Rotator: Finished solving of Rotator 'Auto-Rotator for RollPass 'Raute III'' after 2 iterations.\n",
      "[INFO] pyroll.core.Rotator: Solution took 0.006 s.\n",
      "[INFO] pyroll.core.RollPass: Finished solving of RollPass 'Raute III' after 7 iterations.\n",
      "[INFO] pyroll.core.RollPass: Solution took 0.058 s.\n",
      "[INFO] pyroll.core.Transport: Started solving of Transport.\n",
      "[INFO] pyroll.core.Transport: Finished solving of Transport after 2 iterations.\n",
      "[INFO] pyroll.core.Transport: Solution took 0.002 s.\n",
      "[INFO] pyroll.core.RollPass: Started solving of RollPass 'Quadrat IV'.\n",
      "[INFO] pyroll.core.Rotator: Started solving of Rotator 'Auto-Rotator for RollPass 'Quadrat IV''.\n",
      "[INFO] pyroll.core.Rotator: Finished solving of Rotator 'Auto-Rotator for RollPass 'Quadrat IV'' after 2 iterations.\n",
      "[INFO] pyroll.core.Rotator: Solution took 0.002 s.\n",
      "[INFO] pyroll.core.RollPass: Finished solving of RollPass 'Quadrat IV' after 7 iterations.\n",
      "[INFO] pyroll.core.RollPass: Solution took 0.046 s.\n",
      "[INFO] pyroll.core.Transport: Started solving of Transport.\n",
      "[INFO] pyroll.core.Transport: Finished solving of Transport after 2 iterations.\n",
      "[INFO] pyroll.core.Transport: Solution took 0.003 s.\n",
      "[INFO] pyroll.core.RollPass: Started solving of RollPass 'Oval V'.\n",
      "[INFO] pyroll.core.Rotator: Started solving of Rotator 'Auto-Rotator for RollPass 'Oval V''.\n",
      "[INFO] pyroll.core.Rotator: Finished solving of Rotator 'Auto-Rotator for RollPass 'Oval V'' after 2 iterations.\n",
      "[INFO] pyroll.core.Rotator: Solution took 0.004 s.\n",
      "[INFO] pyroll.core.RollPass: Finished solving of RollPass 'Oval V' after 7 iterations.\n",
      "[INFO] pyroll.core.RollPass: Solution took 0.047 s.\n",
      "[INFO] pyroll.core.Transport: Started solving of Transport.\n",
      "[INFO] pyroll.core.Transport: Finished solving of Transport after 2 iterations.\n",
      "[INFO] pyroll.core.Transport: Solution took 0.003 s.\n",
      "[INFO] pyroll.core.RollPass: Started solving of RollPass 'Quadrat VI'.\n",
      "[INFO] pyroll.core.Rotator: Started solving of Rotator 'Auto-Rotator for RollPass 'Quadrat VI''.\n",
      "[INFO] pyroll.core.Rotator: Finished solving of Rotator 'Auto-Rotator for RollPass 'Quadrat VI'' after 2 iterations.\n",
      "[INFO] pyroll.core.Rotator: Solution took 0.002 s.\n",
      "[INFO] pyroll.core.RollPass: Finished solving of RollPass 'Quadrat VI' after 7 iterations.\n",
      "[INFO] pyroll.core.RollPass: Solution took 0.045 s.\n",
      "[INFO] pyroll.core.Transport: Started solving of Transport.\n",
      "[INFO] pyroll.core.Transport: Finished solving of Transport after 2 iterations.\n",
      "[INFO] pyroll.core.Transport: Solution took 0.003 s.\n",
      "[INFO] pyroll.core.RollPass: Started solving of RollPass 'Oval VII'.\n",
      "[INFO] pyroll.core.Rotator: Started solving of Rotator 'Auto-Rotator for RollPass 'Oval VII''.\n",
      "[INFO] pyroll.core.Rotator: Finished solving of Rotator 'Auto-Rotator for RollPass 'Oval VII'' after 2 iterations.\n",
      "[INFO] pyroll.core.Rotator: Solution took 0.002 s.\n",
      "[INFO] pyroll.core.RollPass: Finished solving of RollPass 'Oval VII' after 8 iterations.\n",
      "[INFO] pyroll.core.RollPass: Solution took 0.047 s.\n",
      "[INFO] pyroll.core.Transport: Started solving of Transport.\n",
      "[INFO] pyroll.core.Transport: Finished solving of Transport after 2 iterations.\n",
      "[INFO] pyroll.core.Transport: Solution took 0.003 s.\n",
      "[INFO] pyroll.core.RollPass: Started solving of RollPass 'Quadrat VIII'.\n",
      "[INFO] pyroll.core.Rotator: Started solving of Rotator 'Auto-Rotator for RollPass 'Quadrat VIII''.\n",
      "[INFO] pyroll.core.Rotator: Finished solving of Rotator 'Auto-Rotator for RollPass 'Quadrat VIII'' after 2 iterations.\n",
      "[INFO] pyroll.core.Rotator: Solution took 0.002 s.\n",
      "[INFO] pyroll.core.RollPass: Finished solving of RollPass 'Quadrat VIII' after 7 iterations.\n",
      "[INFO] pyroll.core.RollPass: Solution took 0.043 s.\n",
      "[INFO] pyroll.core.Transport: Started solving of Transport.\n",
      "[INFO] pyroll.core.Transport: Finished solving of Transport after 2 iterations.\n",
      "[INFO] pyroll.core.Transport: Solution took 0.002 s.\n",
      "[INFO] pyroll.core.RollPass: Started solving of RollPass 'Oval IX'.\n",
      "[INFO] pyroll.core.Rotator: Started solving of Rotator 'Auto-Rotator for RollPass 'Oval IX''.\n",
      "[INFO] pyroll.core.Rotator: Finished solving of Rotator 'Auto-Rotator for RollPass 'Oval IX'' after 2 iterations.\n",
      "[INFO] pyroll.core.Rotator: Solution took 0.002 s.\n",
      "[INFO] pyroll.core.RollPass: Finished solving of RollPass 'Oval IX' after 8 iterations.\n",
      "[INFO] pyroll.core.RollPass: Solution took 0.045 s.\n",
      "[INFO] pyroll.core.Transport: Started solving of Transport.\n",
      "[INFO] pyroll.core.Transport: Finished solving of Transport after 2 iterations.\n",
      "[INFO] pyroll.core.Transport: Solution took 0.003 s.\n",
      "[INFO] pyroll.core.RollPass: Started solving of RollPass 'Fertigrund Xa'.\n",
      "[INFO] pyroll.core.Rotator: Started solving of Rotator 'Auto-Rotator for RollPass 'Fertigrund Xa''.\n",
      "[INFO] pyroll.core.Rotator: Finished solving of Rotator 'Auto-Rotator for RollPass 'Fertigrund Xa'' after 2 iterations.\n",
      "[INFO] pyroll.core.Rotator: Solution took 0.002 s.\n",
      "[INFO] pyroll.core.RollPass: Finished solving of RollPass 'Fertigrund Xa' after 7 iterations.\n",
      "[INFO] pyroll.core.RollPass: Solution took 0.039 s.\n",
      "[INFO] pyroll.core.RollPass: Started solving of RollPass 'Raute I'.\n",
      "[INFO] pyroll.core.Rotator: Started solving of Rotator 'Auto-Rotator for RollPass 'Raute I''.\n",
      "[INFO] pyroll.core.Rotator: Finished solving of Rotator 'Auto-Rotator for RollPass 'Raute I'' after 2 iterations.\n",
      "[INFO] pyroll.core.Rotator: Solution took 0.002 s.\n",
      "[INFO] pyroll.core.RollPass: Finished solving of RollPass 'Raute I' after 5 iterations.\n",
      "[INFO] pyroll.core.RollPass: Solution took 0.032 s.\n",
      "[INFO] pyroll.core.Transport: Started solving of Transport.\n",
      "[INFO] pyroll.core.Transport: Finished solving of Transport after 1 iterations.\n",
      "[INFO] pyroll.core.Transport: Solution took 0.003 s.\n",
      "[INFO] pyroll.core.RollPass: Started solving of RollPass 'Quadrat II'.\n",
      "[INFO] pyroll.core.Rotator: Started solving of Rotator 'Auto-Rotator for RollPass 'Quadrat II''.\n",
      "[INFO] pyroll.core.Rotator: Finished solving of Rotator 'Auto-Rotator for RollPass 'Quadrat II'' after 2 iterations.\n",
      "[INFO] pyroll.core.Rotator: Solution took 0.002 s.\n",
      "[INFO] pyroll.core.RollPass: Finished solving of RollPass 'Quadrat II' after 5 iterations.\n",
      "[INFO] pyroll.core.RollPass: Solution took 0.029 s.\n",
      "[INFO] pyroll.core.Transport: Started solving of Transport.\n",
      "[INFO] pyroll.core.Transport: Finished solving of Transport after 1 iterations.\n",
      "[INFO] pyroll.core.Transport: Solution took 0.002 s.\n",
      "[INFO] pyroll.core.RollPass: Started solving of RollPass 'Raute III'.\n",
      "[INFO] pyroll.core.Rotator: Started solving of Rotator 'Auto-Rotator for RollPass 'Raute III''.\n",
      "[INFO] pyroll.core.Rotator: Finished solving of Rotator 'Auto-Rotator for RollPass 'Raute III'' after 2 iterations.\n",
      "[INFO] pyroll.core.Rotator: Solution took 0.002 s.\n",
      "[INFO] pyroll.core.RollPass: Finished solving of RollPass 'Raute III' after 6 iterations.\n",
      "[INFO] pyroll.core.RollPass: Solution took 0.033 s.\n",
      "[INFO] pyroll.core.Transport: Started solving of Transport.\n",
      "[INFO] pyroll.core.Transport: Finished solving of Transport after 1 iterations.\n",
      "[INFO] pyroll.core.Transport: Solution took 0.003 s.\n",
      "[INFO] pyroll.core.RollPass: Started solving of RollPass 'Quadrat IV'.\n",
      "[INFO] pyroll.core.Rotator: Started solving of Rotator 'Auto-Rotator for RollPass 'Quadrat IV''.\n",
      "[INFO] pyroll.core.Rotator: Finished solving of Rotator 'Auto-Rotator for RollPass 'Quadrat IV'' after 2 iterations.\n",
      "[INFO] pyroll.core.Rotator: Solution took 0.002 s.\n",
      "[INFO] pyroll.core.RollPass: Finished solving of RollPass 'Quadrat IV' after 5 iterations.\n",
      "[INFO] pyroll.core.RollPass: Solution took 0.029 s.\n",
      "[INFO] pyroll.core.Transport: Started solving of Transport.\n",
      "[INFO] pyroll.core.Transport: Finished solving of Transport after 1 iterations.\n",
      "[INFO] pyroll.core.Transport: Solution took 0.001 s.\n",
      "[INFO] pyroll.core.RollPass: Started solving of RollPass 'Oval V'.\n",
      "[INFO] pyroll.core.Rotator: Started solving of Rotator 'Auto-Rotator for RollPass 'Oval V''.\n",
      "[INFO] pyroll.core.Rotator: Finished solving of Rotator 'Auto-Rotator for RollPass 'Oval V'' after 2 iterations.\n",
      "[INFO] pyroll.core.Rotator: Solution took 0.002 s.\n",
      "[INFO] pyroll.core.RollPass: Finished solving of RollPass 'Oval V' after 6 iterations.\n",
      "[INFO] pyroll.core.RollPass: Solution took 0.033 s.\n",
      "[INFO] pyroll.core.Transport: Started solving of Transport.\n",
      "[INFO] pyroll.core.Transport: Finished solving of Transport after 1 iterations.\n",
      "[INFO] pyroll.core.Transport: Solution took 0.002 s.\n",
      "[INFO] pyroll.core.RollPass: Started solving of RollPass 'Quadrat VI'.\n",
      "[INFO] pyroll.core.Rotator: Started solving of Rotator 'Auto-Rotator for RollPass 'Quadrat VI''.\n",
      "[INFO] pyroll.core.Rotator: Finished solving of Rotator 'Auto-Rotator for RollPass 'Quadrat VI'' after 2 iterations.\n",
      "[INFO] pyroll.core.Rotator: Solution took 0.002 s.\n",
      "[INFO] pyroll.core.RollPass: Finished solving of RollPass 'Quadrat VI' after 6 iterations.\n",
      "[INFO] pyroll.core.RollPass: Solution took 0.037 s.\n",
      "[INFO] pyroll.core.Transport: Started solving of Transport.\n",
      "[INFO] pyroll.core.Transport: Finished solving of Transport after 1 iterations.\n",
      "[INFO] pyroll.core.Transport: Solution took 0.001 s.\n",
      "[INFO] pyroll.core.RollPass: Started solving of RollPass 'Oval VII'.\n",
      "[INFO] pyroll.core.Rotator: Started solving of Rotator 'Auto-Rotator for RollPass 'Oval VII''.\n",
      "[INFO] pyroll.core.Rotator: Finished solving of Rotator 'Auto-Rotator for RollPass 'Oval VII'' after 2 iterations.\n",
      "[INFO] pyroll.core.Rotator: Solution took 0.002 s.\n",
      "[INFO] pyroll.core.RollPass: Finished solving of RollPass 'Oval VII' after 6 iterations.\n",
      "[INFO] pyroll.core.RollPass: Solution took 0.038 s.\n",
      "[INFO] pyroll.core.Transport: Started solving of Transport.\n",
      "[INFO] pyroll.core.Transport: Finished solving of Transport after 1 iterations.\n",
      "[INFO] pyroll.core.Transport: Solution took 0.002 s.\n",
      "[INFO] pyroll.core.RollPass: Started solving of RollPass 'Quadrat VIII'.\n",
      "[INFO] pyroll.core.Rotator: Started solving of Rotator 'Auto-Rotator for RollPass 'Quadrat VIII''.\n",
      "[INFO] pyroll.core.Rotator: Finished solving of Rotator 'Auto-Rotator for RollPass 'Quadrat VIII'' after 2 iterations.\n",
      "[INFO] pyroll.core.Rotator: Solution took 0.002 s.\n",
      "[INFO] pyroll.core.RollPass: Finished solving of RollPass 'Quadrat VIII' after 6 iterations.\n",
      "[INFO] pyroll.core.RollPass: Solution took 0.035 s.\n",
      "[INFO] pyroll.core.Transport: Started solving of Transport.\n",
      "[INFO] pyroll.core.Transport: Finished solving of Transport after 1 iterations.\n",
      "[INFO] pyroll.core.Transport: Solution took 0.002 s.\n",
      "[INFO] pyroll.core.RollPass: Started solving of RollPass 'Oval IX'.\n",
      "[INFO] pyroll.core.Rotator: Started solving of Rotator 'Auto-Rotator for RollPass 'Oval IX''.\n",
      "[INFO] pyroll.core.Rotator: Finished solving of Rotator 'Auto-Rotator for RollPass 'Oval IX'' after 2 iterations.\n",
      "[INFO] pyroll.core.Rotator: Solution took 0.002 s.\n",
      "[INFO] pyroll.core.RollPass: Finished solving of RollPass 'Oval IX' after 6 iterations.\n",
      "[INFO] pyroll.core.RollPass: Solution took 0.036 s.\n",
      "[INFO] pyroll.core.Transport: Started solving of Transport.\n",
      "[INFO] pyroll.core.Transport: Finished solving of Transport after 1 iterations.\n",
      "[INFO] pyroll.core.Transport: Solution took 0.002 s.\n",
      "[INFO] pyroll.core.RollPass: Started solving of RollPass 'Fertigrund Xa'.\n",
      "[INFO] pyroll.core.Rotator: Started solving of Rotator 'Auto-Rotator for RollPass 'Fertigrund Xa''.\n",
      "[INFO] pyroll.core.Rotator: Finished solving of Rotator 'Auto-Rotator for RollPass 'Fertigrund Xa'' after 2 iterations.\n",
      "[INFO] pyroll.core.Rotator: Solution took 0.003 s.\n",
      "[INFO] pyroll.core.RollPass: Finished solving of RollPass 'Fertigrund Xa' after 4 iterations.\n",
      "[INFO] pyroll.core.RollPass: Solution took 0.035 s.\n",
      "[INFO] pyroll.core.PassSequence: Finished solving of PassSequence after 2 iterations.\n",
      "[INFO] pyroll.core.PassSequence: Solution took 0.923 s.\n"
     ]
    },
    {
     "data": {
      "text/plain": "Profile(\n    classifiers={'generic_elongation', 'round'},\n    cross_section=Polygon(\n        area=0.00017570071551876,\n        height=0.015799999999999998,\n        perimeter=0.048257316921936036,\n        width=0.012651404537658997,\n        ),\n    density=7500.0,\n    freiberg_flow_stress_coefficients=FreibergFlowStressCoefficients(a=3268490000.0, m1=-0.00267855, m2=0.34446, m3=0, m4=0.000551814, m5=-0.00132042, m6=0, m7=0.0166334, m8=0.000149907, m9=0, baseStrain=0.1, baseStrainRate=0.1),\n    length=0.0,\n    material='C45',\n    strain=0.3520273306345031,\n    t=18.435109033688455,\n    temperature=1345.349476591933,\n    thermal_capacity=690,\n    )",
      "text/html": "<table><tr><td style='width:60%'><?xml version=\"1.0\" encoding=\"utf-8\" standalone=\"no\"?>\n<!DOCTYPE svg PUBLIC \"-//W3C//DTD SVG 1.1//EN\"\n  \"http://www.w3.org/Graphics/SVG/1.1/DTD/svg11.dtd\">\n<svg xmlns:xlink=\"http://www.w3.org/1999/xlink\" width=\"100%\" height=\"100%\" viewBox=\"0 0 460.8 345.6\" xmlns=\"http://www.w3.org/2000/svg\" version=\"1.1\">\n <metadata>\n  <rdf:RDF xmlns:dc=\"http://purl.org/dc/elements/1.1/\" xmlns:cc=\"http://creativecommons.org/ns#\" xmlns:rdf=\"http://www.w3.org/1999/02/22-rdf-syntax-ns#\">\n   <cc:Work>\n    <dc:type rdf:resource=\"http://purl.org/dc/dcmitype/StillImage\"/>\n    <dc:date>2023-09-01T14:06:09.830671</dc:date>\n    <dc:format>image/svg+xml</dc:format>\n    <dc:creator>\n     <cc:Agent>\n      <dc:title>Matplotlib v3.7.2, https://matplotlib.org/</dc:title>\n     </cc:Agent>\n    </dc:creator>\n   </cc:Work>\n  </rdf:RDF>\n </metadata>\n <defs>\n  <style type=\"text/css\">*{stroke-linejoin: round; stroke-linecap: butt}</style>\n </defs>\n <g id=\"figure_1\">\n  <g id=\"patch_1\">\n   <path d=\"M 0 345.6 \nL 460.8 345.6 \nL 460.8 0 \nL 0 0 \nz\n\" style=\"fill: #ffffff\"/>\n  </g>\n  <g id=\"axes_1\">\n   <g id=\"patch_2\">\n    <path d=\"M 57.6 307.584 \nL 414.72 307.584 \nL 414.72 41.472 \nL 57.6 41.472 \nz\n\" style=\"fill: #ffffff\"/>\n   </g>\n   <g id=\"patch_3\">\n    <path d=\"M 139.30469 246.820003 \nL 139.30469 102.235997 \nL 141.924307 98.692943 \nL 147.814038 91.906498 \nL 153.703769 86.027765 \nL 159.5935 80.885634 \nL 165.483231 76.36428 \nL 171.372961 72.381237 \nL 177.262692 68.875604 \nL 183.152423 65.801194 \nL 189.042154 63.122299 \nL 194.931884 60.810965 \nL 200.821615 58.845157 \nL 206.711346 57.207506 \nL 212.601077 55.884421 \nL 218.490808 54.865469 \nL 224.380538 54.142927 \nL 230.270269 53.711475 \nL 236.16 53.568 \nL 242.049731 53.711475 \nL 247.939462 54.142927 \nL 253.829192 54.865469 \nL 259.718923 55.884421 \nL 265.608654 57.207506 \nL 271.498385 58.845157 \nL 277.388116 60.810965 \nL 283.277846 63.122299 \nL 289.167577 65.801194 \nL 295.057308 68.875604 \nL 300.947039 72.381237 \nL 306.836769 76.36428 \nL 312.7265 80.885634 \nL 318.616231 86.027765 \nL 324.505962 91.906498 \nL 330.395693 98.692943 \nL 333.01531 102.235997 \nL 333.01531 246.820003 \nL 330.395693 250.363057 \nL 324.505962 257.149502 \nL 318.616231 263.028235 \nL 312.7265 268.170366 \nL 306.836769 272.69172 \nL 300.947039 276.674763 \nL 295.057308 280.180396 \nL 289.167577 283.254806 \nL 283.277846 285.933701 \nL 277.388116 288.245035 \nL 271.498385 290.210843 \nL 265.608654 291.848494 \nL 259.718923 293.171579 \nL 253.829192 294.190531 \nL 247.939462 294.913073 \nL 242.049731 295.344525 \nL 236.16 295.488 \nL 230.270269 295.344525 \nL 224.380538 294.913073 \nL 218.490808 294.190531 \nL 212.601077 293.171579 \nL 206.711346 291.848494 \nL 200.821615 290.210843 \nL 194.931884 288.245035 \nL 189.042154 285.933701 \nL 183.152423 283.254806 \nL 177.262692 280.180396 \nL 171.372961 276.674763 \nL 165.483231 272.69172 \nL 159.5935 268.170366 \nL 153.703769 263.028235 \nL 147.814038 257.149502 \nL 141.924307 250.363057 \nz\n\" clip-path=\"url(#pb78f5bc823)\" style=\"opacity: 0.5; stroke: #000000; stroke-linejoin: miter\"/>\n   </g>\n   <g id=\"matplotlib.axis_1\">\n    <g id=\"xtick_1\">\n     <g id=\"line2d_1\">\n      <path d=\"M 83.046076 307.584 \nL 83.046076 41.472 \n\" clip-path=\"url(#pb78f5bc823)\" style=\"fill: none; stroke: #b0b0b0; stroke-width: 0.5; stroke-linecap: square\"/>\n     </g>\n     <g id=\"line2d_2\">\n      <defs>\n       <path id=\"mee9813a96d\" d=\"M 0 0 \nL 0 3.5 \n\" style=\"stroke: #000000; stroke-width: 0.8\"/>\n      </defs>\n      <g>\n       <use xlink:href=\"#mee9813a96d\" x=\"83.046076\" y=\"307.584\" style=\"stroke: #000000; stroke-width: 0.8\"/>\n      </g>\n     </g>\n     <g id=\"text_1\">\n      <!-- −0.010 -->\n      <g transform=\"translate(64.54217 322.182437) scale(0.1 -0.1)\">\n       <defs>\n        <path id=\"DejaVuSans-2212\" d=\"M 678 2272 \nL 4684 2272 \nL 4684 1741 \nL 678 1741 \nL 678 2272 \nz\n\" transform=\"scale(0.015625)\"/>\n        <path id=\"DejaVuSans-30\" d=\"M 2034 4250 \nQ 1547 4250 1301 3770 \nQ 1056 3291 1056 2328 \nQ 1056 1369 1301 889 \nQ 1547 409 2034 409 \nQ 2525 409 2770 889 \nQ 3016 1369 3016 2328 \nQ 3016 3291 2770 3770 \nQ 2525 4250 2034 4250 \nz\nM 2034 4750 \nQ 2819 4750 3233 4129 \nQ 3647 3509 3647 2328 \nQ 3647 1150 3233 529 \nQ 2819 -91 2034 -91 \nQ 1250 -91 836 529 \nQ 422 1150 422 2328 \nQ 422 3509 836 4129 \nQ 1250 4750 2034 4750 \nz\n\" transform=\"scale(0.015625)\"/>\n        <path id=\"DejaVuSans-2e\" d=\"M 684 794 \nL 1344 794 \nL 1344 0 \nL 684 0 \nL 684 794 \nz\n\" transform=\"scale(0.015625)\"/>\n        <path id=\"DejaVuSans-31\" d=\"M 794 531 \nL 1825 531 \nL 1825 4091 \nL 703 3866 \nL 703 4441 \nL 1819 4666 \nL 2450 4666 \nL 2450 531 \nL 3481 531 \nL 3481 0 \nL 794 0 \nL 794 531 \nz\n\" transform=\"scale(0.015625)\"/>\n       </defs>\n       <use xlink:href=\"#DejaVuSans-2212\"/>\n       <use xlink:href=\"#DejaVuSans-30\" x=\"83.789062\"/>\n       <use xlink:href=\"#DejaVuSans-2e\" x=\"147.412109\"/>\n       <use xlink:href=\"#DejaVuSans-30\" x=\"179.199219\"/>\n       <use xlink:href=\"#DejaVuSans-31\" x=\"242.822266\"/>\n       <use xlink:href=\"#DejaVuSans-30\" x=\"306.445312\"/>\n      </g>\n     </g>\n    </g>\n    <g id=\"xtick_2\">\n     <g id=\"line2d_3\">\n      <path d=\"M 159.603038 307.584 \nL 159.603038 41.472 \n\" clip-path=\"url(#pb78f5bc823)\" style=\"fill: none; stroke: #b0b0b0; stroke-width: 0.5; stroke-linecap: square\"/>\n     </g>\n     <g id=\"line2d_4\">\n      <g>\n       <use xlink:href=\"#mee9813a96d\" x=\"159.603038\" y=\"307.584\" style=\"stroke: #000000; stroke-width: 0.8\"/>\n      </g>\n     </g>\n     <g id=\"text_2\">\n      <!-- −0.005 -->\n      <g transform=\"translate(141.099132 322.182437) scale(0.1 -0.1)\">\n       <defs>\n        <path id=\"DejaVuSans-35\" d=\"M 691 4666 \nL 3169 4666 \nL 3169 4134 \nL 1269 4134 \nL 1269 2991 \nQ 1406 3038 1543 3061 \nQ 1681 3084 1819 3084 \nQ 2600 3084 3056 2656 \nQ 3513 2228 3513 1497 \nQ 3513 744 3044 326 \nQ 2575 -91 1722 -91 \nQ 1428 -91 1123 -41 \nQ 819 9 494 109 \nL 494 744 \nQ 775 591 1075 516 \nQ 1375 441 1709 441 \nQ 2250 441 2565 725 \nQ 2881 1009 2881 1497 \nQ 2881 1984 2565 2268 \nQ 2250 2553 1709 2553 \nQ 1456 2553 1204 2497 \nQ 953 2441 691 2322 \nL 691 4666 \nz\n\" transform=\"scale(0.015625)\"/>\n       </defs>\n       <use xlink:href=\"#DejaVuSans-2212\"/>\n       <use xlink:href=\"#DejaVuSans-30\" x=\"83.789062\"/>\n       <use xlink:href=\"#DejaVuSans-2e\" x=\"147.412109\"/>\n       <use xlink:href=\"#DejaVuSans-30\" x=\"179.199219\"/>\n       <use xlink:href=\"#DejaVuSans-30\" x=\"242.822266\"/>\n       <use xlink:href=\"#DejaVuSans-35\" x=\"306.445312\"/>\n      </g>\n     </g>\n    </g>\n    <g id=\"xtick_3\">\n     <g id=\"line2d_5\">\n      <path d=\"M 236.16 307.584 \nL 236.16 41.472 \n\" clip-path=\"url(#pb78f5bc823)\" style=\"fill: none; stroke: #b0b0b0; stroke-width: 0.5; stroke-linecap: square\"/>\n     </g>\n     <g id=\"line2d_6\">\n      <g>\n       <use xlink:href=\"#mee9813a96d\" x=\"236.16\" y=\"307.584\" style=\"stroke: #000000; stroke-width: 0.8\"/>\n      </g>\n     </g>\n     <g id=\"text_3\">\n      <!-- 0.000 -->\n      <g transform=\"translate(221.845937 322.182437) scale(0.1 -0.1)\">\n       <use xlink:href=\"#DejaVuSans-30\"/>\n       <use xlink:href=\"#DejaVuSans-2e\" x=\"63.623047\"/>\n       <use xlink:href=\"#DejaVuSans-30\" x=\"95.410156\"/>\n       <use xlink:href=\"#DejaVuSans-30\" x=\"159.033203\"/>\n       <use xlink:href=\"#DejaVuSans-30\" x=\"222.65625\"/>\n      </g>\n     </g>\n    </g>\n    <g id=\"xtick_4\">\n     <g id=\"line2d_7\">\n      <path d=\"M 312.716962 307.584 \nL 312.716962 41.472 \n\" clip-path=\"url(#pb78f5bc823)\" style=\"fill: none; stroke: #b0b0b0; stroke-width: 0.5; stroke-linecap: square\"/>\n     </g>\n     <g id=\"line2d_8\">\n      <g>\n       <use xlink:href=\"#mee9813a96d\" x=\"312.716962\" y=\"307.584\" style=\"stroke: #000000; stroke-width: 0.8\"/>\n      </g>\n     </g>\n     <g id=\"text_4\">\n      <!-- 0.005 -->\n      <g transform=\"translate(298.4029 322.182437) scale(0.1 -0.1)\">\n       <use xlink:href=\"#DejaVuSans-30\"/>\n       <use xlink:href=\"#DejaVuSans-2e\" x=\"63.623047\"/>\n       <use xlink:href=\"#DejaVuSans-30\" x=\"95.410156\"/>\n       <use xlink:href=\"#DejaVuSans-30\" x=\"159.033203\"/>\n       <use xlink:href=\"#DejaVuSans-35\" x=\"222.65625\"/>\n      </g>\n     </g>\n    </g>\n    <g id=\"xtick_5\">\n     <g id=\"line2d_9\">\n      <path d=\"M 389.273924 307.584 \nL 389.273924 41.472 \n\" clip-path=\"url(#pb78f5bc823)\" style=\"fill: none; stroke: #b0b0b0; stroke-width: 0.5; stroke-linecap: square\"/>\n     </g>\n     <g id=\"line2d_10\">\n      <g>\n       <use xlink:href=\"#mee9813a96d\" x=\"389.273924\" y=\"307.584\" style=\"stroke: #000000; stroke-width: 0.8\"/>\n      </g>\n     </g>\n     <g id=\"text_5\">\n      <!-- 0.010 -->\n      <g transform=\"translate(374.959862 322.182437) scale(0.1 -0.1)\">\n       <use xlink:href=\"#DejaVuSans-30\"/>\n       <use xlink:href=\"#DejaVuSans-2e\" x=\"63.623047\"/>\n       <use xlink:href=\"#DejaVuSans-30\" x=\"95.410156\"/>\n       <use xlink:href=\"#DejaVuSans-31\" x=\"159.033203\"/>\n       <use xlink:href=\"#DejaVuSans-30\" x=\"222.65625\"/>\n      </g>\n     </g>\n    </g>\n    <g id=\"text_6\">\n     <!-- z -->\n     <g transform=\"translate(233.535781 335.860562) scale(0.1 -0.1)\">\n      <defs>\n       <path id=\"DejaVuSans-7a\" d=\"M 353 3500 \nL 3084 3500 \nL 3084 2975 \nL 922 459 \nL 3084 459 \nL 3084 0 \nL 275 0 \nL 275 525 \nL 2438 3041 \nL 353 3041 \nL 353 3500 \nz\n\" transform=\"scale(0.015625)\"/>\n      </defs>\n      <use xlink:href=\"#DejaVuSans-7a\"/>\n     </g>\n    </g>\n   </g>\n   <g id=\"matplotlib.axis_2\">\n    <g id=\"ytick_1\">\n     <g id=\"line2d_11\">\n      <path d=\"M 57.6 297.019139 \nL 414.72 297.019139 \n\" clip-path=\"url(#pb78f5bc823)\" style=\"fill: none; stroke: #b0b0b0; stroke-width: 0.5; stroke-linecap: square\"/>\n     </g>\n     <g id=\"line2d_12\">\n      <defs>\n       <path id=\"m2383e437cd\" d=\"M 0 0 \nL -3.5 0 \n\" style=\"stroke: #000000; stroke-width: 0.8\"/>\n      </defs>\n      <g>\n       <use xlink:href=\"#m2383e437cd\" x=\"57.6\" y=\"297.019139\" style=\"stroke: #000000; stroke-width: 0.8\"/>\n      </g>\n     </g>\n     <g id=\"text_7\">\n      <!-- −0.008 -->\n      <g transform=\"translate(13.592188 300.818358) scale(0.1 -0.1)\">\n       <defs>\n        <path id=\"DejaVuSans-38\" d=\"M 2034 2216 \nQ 1584 2216 1326 1975 \nQ 1069 1734 1069 1313 \nQ 1069 891 1326 650 \nQ 1584 409 2034 409 \nQ 2484 409 2743 651 \nQ 3003 894 3003 1313 \nQ 3003 1734 2745 1975 \nQ 2488 2216 2034 2216 \nz\nM 1403 2484 \nQ 997 2584 770 2862 \nQ 544 3141 544 3541 \nQ 544 4100 942 4425 \nQ 1341 4750 2034 4750 \nQ 2731 4750 3128 4425 \nQ 3525 4100 3525 3541 \nQ 3525 3141 3298 2862 \nQ 3072 2584 2669 2484 \nQ 3125 2378 3379 2068 \nQ 3634 1759 3634 1313 \nQ 3634 634 3220 271 \nQ 2806 -91 2034 -91 \nQ 1263 -91 848 271 \nQ 434 634 434 1313 \nQ 434 1759 690 2068 \nQ 947 2378 1403 2484 \nz\nM 1172 3481 \nQ 1172 3119 1398 2916 \nQ 1625 2713 2034 2713 \nQ 2441 2713 2670 2916 \nQ 2900 3119 2900 3481 \nQ 2900 3844 2670 4047 \nQ 2441 4250 2034 4250 \nQ 1625 4250 1398 4047 \nQ 1172 3844 1172 3481 \nz\n\" transform=\"scale(0.015625)\"/>\n       </defs>\n       <use xlink:href=\"#DejaVuSans-2212\"/>\n       <use xlink:href=\"#DejaVuSans-30\" x=\"83.789062\"/>\n       <use xlink:href=\"#DejaVuSans-2e\" x=\"147.412109\"/>\n       <use xlink:href=\"#DejaVuSans-30\" x=\"179.199219\"/>\n       <use xlink:href=\"#DejaVuSans-30\" x=\"242.822266\"/>\n       <use xlink:href=\"#DejaVuSans-38\" x=\"306.445312\"/>\n      </g>\n     </g>\n    </g>\n    <g id=\"ytick_2\">\n     <g id=\"line2d_13\">\n      <path d=\"M 57.6 266.396354 \nL 414.72 266.396354 \n\" clip-path=\"url(#pb78f5bc823)\" style=\"fill: none; stroke: #b0b0b0; stroke-width: 0.5; stroke-linecap: square\"/>\n     </g>\n     <g id=\"line2d_14\">\n      <g>\n       <use xlink:href=\"#m2383e437cd\" x=\"57.6\" y=\"266.396354\" style=\"stroke: #000000; stroke-width: 0.8\"/>\n      </g>\n     </g>\n     <g id=\"text_8\">\n      <!-- −0.006 -->\n      <g transform=\"translate(13.592188 270.195573) scale(0.1 -0.1)\">\n       <defs>\n        <path id=\"DejaVuSans-36\" d=\"M 2113 2584 \nQ 1688 2584 1439 2293 \nQ 1191 2003 1191 1497 \nQ 1191 994 1439 701 \nQ 1688 409 2113 409 \nQ 2538 409 2786 701 \nQ 3034 994 3034 1497 \nQ 3034 2003 2786 2293 \nQ 2538 2584 2113 2584 \nz\nM 3366 4563 \nL 3366 3988 \nQ 3128 4100 2886 4159 \nQ 2644 4219 2406 4219 \nQ 1781 4219 1451 3797 \nQ 1122 3375 1075 2522 \nQ 1259 2794 1537 2939 \nQ 1816 3084 2150 3084 \nQ 2853 3084 3261 2657 \nQ 3669 2231 3669 1497 \nQ 3669 778 3244 343 \nQ 2819 -91 2113 -91 \nQ 1303 -91 875 529 \nQ 447 1150 447 2328 \nQ 447 3434 972 4092 \nQ 1497 4750 2381 4750 \nQ 2619 4750 2861 4703 \nQ 3103 4656 3366 4563 \nz\n\" transform=\"scale(0.015625)\"/>\n       </defs>\n       <use xlink:href=\"#DejaVuSans-2212\"/>\n       <use xlink:href=\"#DejaVuSans-30\" x=\"83.789062\"/>\n       <use xlink:href=\"#DejaVuSans-2e\" x=\"147.412109\"/>\n       <use xlink:href=\"#DejaVuSans-30\" x=\"179.199219\"/>\n       <use xlink:href=\"#DejaVuSans-30\" x=\"242.822266\"/>\n       <use xlink:href=\"#DejaVuSans-36\" x=\"306.445312\"/>\n      </g>\n     </g>\n    </g>\n    <g id=\"ytick_3\">\n     <g id=\"line2d_15\">\n      <path d=\"M 57.6 235.77357 \nL 414.72 235.77357 \n\" clip-path=\"url(#pb78f5bc823)\" style=\"fill: none; stroke: #b0b0b0; stroke-width: 0.5; stroke-linecap: square\"/>\n     </g>\n     <g id=\"line2d_16\">\n      <g>\n       <use xlink:href=\"#m2383e437cd\" x=\"57.6\" y=\"235.77357\" style=\"stroke: #000000; stroke-width: 0.8\"/>\n      </g>\n     </g>\n     <g id=\"text_9\">\n      <!-- −0.004 -->\n      <g transform=\"translate(13.592188 239.572788) scale(0.1 -0.1)\">\n       <defs>\n        <path id=\"DejaVuSans-34\" d=\"M 2419 4116 \nL 825 1625 \nL 2419 1625 \nL 2419 4116 \nz\nM 2253 4666 \nL 3047 4666 \nL 3047 1625 \nL 3713 1625 \nL 3713 1100 \nL 3047 1100 \nL 3047 0 \nL 2419 0 \nL 2419 1100 \nL 313 1100 \nL 313 1709 \nL 2253 4666 \nz\n\" transform=\"scale(0.015625)\"/>\n       </defs>\n       <use xlink:href=\"#DejaVuSans-2212\"/>\n       <use xlink:href=\"#DejaVuSans-30\" x=\"83.789062\"/>\n       <use xlink:href=\"#DejaVuSans-2e\" x=\"147.412109\"/>\n       <use xlink:href=\"#DejaVuSans-30\" x=\"179.199219\"/>\n       <use xlink:href=\"#DejaVuSans-30\" x=\"242.822266\"/>\n       <use xlink:href=\"#DejaVuSans-34\" x=\"306.445312\"/>\n      </g>\n     </g>\n    </g>\n    <g id=\"ytick_4\">\n     <g id=\"line2d_17\">\n      <path d=\"M 57.6 205.150785 \nL 414.72 205.150785 \n\" clip-path=\"url(#pb78f5bc823)\" style=\"fill: none; stroke: #b0b0b0; stroke-width: 0.5; stroke-linecap: square\"/>\n     </g>\n     <g id=\"line2d_18\">\n      <g>\n       <use xlink:href=\"#m2383e437cd\" x=\"57.6\" y=\"205.150785\" style=\"stroke: #000000; stroke-width: 0.8\"/>\n      </g>\n     </g>\n     <g id=\"text_10\">\n      <!-- −0.002 -->\n      <g transform=\"translate(13.592188 208.950004) scale(0.1 -0.1)\">\n       <defs>\n        <path id=\"DejaVuSans-32\" d=\"M 1228 531 \nL 3431 531 \nL 3431 0 \nL 469 0 \nL 469 531 \nQ 828 903 1448 1529 \nQ 2069 2156 2228 2338 \nQ 2531 2678 2651 2914 \nQ 2772 3150 2772 3378 \nQ 2772 3750 2511 3984 \nQ 2250 4219 1831 4219 \nQ 1534 4219 1204 4116 \nQ 875 4013 500 3803 \nL 500 4441 \nQ 881 4594 1212 4672 \nQ 1544 4750 1819 4750 \nQ 2544 4750 2975 4387 \nQ 3406 4025 3406 3419 \nQ 3406 3131 3298 2873 \nQ 3191 2616 2906 2266 \nQ 2828 2175 2409 1742 \nQ 1991 1309 1228 531 \nz\n\" transform=\"scale(0.015625)\"/>\n       </defs>\n       <use xlink:href=\"#DejaVuSans-2212\"/>\n       <use xlink:href=\"#DejaVuSans-30\" x=\"83.789062\"/>\n       <use xlink:href=\"#DejaVuSans-2e\" x=\"147.412109\"/>\n       <use xlink:href=\"#DejaVuSans-30\" x=\"179.199219\"/>\n       <use xlink:href=\"#DejaVuSans-30\" x=\"242.822266\"/>\n       <use xlink:href=\"#DejaVuSans-32\" x=\"306.445312\"/>\n      </g>\n     </g>\n    </g>\n    <g id=\"ytick_5\">\n     <g id=\"line2d_19\">\n      <path d=\"M 57.6 174.528 \nL 414.72 174.528 \n\" clip-path=\"url(#pb78f5bc823)\" style=\"fill: none; stroke: #b0b0b0; stroke-width: 0.5; stroke-linecap: square\"/>\n     </g>\n     <g id=\"line2d_20\">\n      <g>\n       <use xlink:href=\"#m2383e437cd\" x=\"57.6\" y=\"174.528\" style=\"stroke: #000000; stroke-width: 0.8\"/>\n      </g>\n     </g>\n     <g id=\"text_11\">\n      <!-- 0.000 -->\n      <g transform=\"translate(21.971875 178.327219) scale(0.1 -0.1)\">\n       <use xlink:href=\"#DejaVuSans-30\"/>\n       <use xlink:href=\"#DejaVuSans-2e\" x=\"63.623047\"/>\n       <use xlink:href=\"#DejaVuSans-30\" x=\"95.410156\"/>\n       <use xlink:href=\"#DejaVuSans-30\" x=\"159.033203\"/>\n       <use xlink:href=\"#DejaVuSans-30\" x=\"222.65625\"/>\n      </g>\n     </g>\n    </g>\n    <g id=\"ytick_6\">\n     <g id=\"line2d_21\">\n      <path d=\"M 57.6 143.905215 \nL 414.72 143.905215 \n\" clip-path=\"url(#pb78f5bc823)\" style=\"fill: none; stroke: #b0b0b0; stroke-width: 0.5; stroke-linecap: square\"/>\n     </g>\n     <g id=\"line2d_22\">\n      <g>\n       <use xlink:href=\"#m2383e437cd\" x=\"57.6\" y=\"143.905215\" style=\"stroke: #000000; stroke-width: 0.8\"/>\n      </g>\n     </g>\n     <g id=\"text_12\">\n      <!-- 0.002 -->\n      <g transform=\"translate(21.971875 147.704434) scale(0.1 -0.1)\">\n       <use xlink:href=\"#DejaVuSans-30\"/>\n       <use xlink:href=\"#DejaVuSans-2e\" x=\"63.623047\"/>\n       <use xlink:href=\"#DejaVuSans-30\" x=\"95.410156\"/>\n       <use xlink:href=\"#DejaVuSans-30\" x=\"159.033203\"/>\n       <use xlink:href=\"#DejaVuSans-32\" x=\"222.65625\"/>\n      </g>\n     </g>\n    </g>\n    <g id=\"ytick_7\">\n     <g id=\"line2d_23\">\n      <path d=\"M 57.6 113.28243 \nL 414.72 113.28243 \n\" clip-path=\"url(#pb78f5bc823)\" style=\"fill: none; stroke: #b0b0b0; stroke-width: 0.5; stroke-linecap: square\"/>\n     </g>\n     <g id=\"line2d_24\">\n      <g>\n       <use xlink:href=\"#m2383e437cd\" x=\"57.6\" y=\"113.28243\" style=\"stroke: #000000; stroke-width: 0.8\"/>\n      </g>\n     </g>\n     <g id=\"text_13\">\n      <!-- 0.004 -->\n      <g transform=\"translate(21.971875 117.081649) scale(0.1 -0.1)\">\n       <use xlink:href=\"#DejaVuSans-30\"/>\n       <use xlink:href=\"#DejaVuSans-2e\" x=\"63.623047\"/>\n       <use xlink:href=\"#DejaVuSans-30\" x=\"95.410156\"/>\n       <use xlink:href=\"#DejaVuSans-30\" x=\"159.033203\"/>\n       <use xlink:href=\"#DejaVuSans-34\" x=\"222.65625\"/>\n      </g>\n     </g>\n    </g>\n    <g id=\"ytick_8\">\n     <g id=\"line2d_25\">\n      <path d=\"M 57.6 82.659646 \nL 414.72 82.659646 \n\" clip-path=\"url(#pb78f5bc823)\" style=\"fill: none; stroke: #b0b0b0; stroke-width: 0.5; stroke-linecap: square\"/>\n     </g>\n     <g id=\"line2d_26\">\n      <g>\n       <use xlink:href=\"#m2383e437cd\" x=\"57.6\" y=\"82.659646\" style=\"stroke: #000000; stroke-width: 0.8\"/>\n      </g>\n     </g>\n     <g id=\"text_14\">\n      <!-- 0.006 -->\n      <g transform=\"translate(21.971875 86.458864) scale(0.1 -0.1)\">\n       <use xlink:href=\"#DejaVuSans-30\"/>\n       <use xlink:href=\"#DejaVuSans-2e\" x=\"63.623047\"/>\n       <use xlink:href=\"#DejaVuSans-30\" x=\"95.410156\"/>\n       <use xlink:href=\"#DejaVuSans-30\" x=\"159.033203\"/>\n       <use xlink:href=\"#DejaVuSans-36\" x=\"222.65625\"/>\n      </g>\n     </g>\n    </g>\n    <g id=\"ytick_9\">\n     <g id=\"line2d_27\">\n      <path d=\"M 57.6 52.036861 \nL 414.72 52.036861 \n\" clip-path=\"url(#pb78f5bc823)\" style=\"fill: none; stroke: #b0b0b0; stroke-width: 0.5; stroke-linecap: square\"/>\n     </g>\n     <g id=\"line2d_28\">\n      <g>\n       <use xlink:href=\"#m2383e437cd\" x=\"57.6\" y=\"52.036861\" style=\"stroke: #000000; stroke-width: 0.8\"/>\n      </g>\n     </g>\n     <g id=\"text_15\">\n      <!-- 0.008 -->\n      <g transform=\"translate(21.971875 55.83608) scale(0.1 -0.1)\">\n       <use xlink:href=\"#DejaVuSans-30\"/>\n       <use xlink:href=\"#DejaVuSans-2e\" x=\"63.623047\"/>\n       <use xlink:href=\"#DejaVuSans-30\" x=\"95.410156\"/>\n       <use xlink:href=\"#DejaVuSans-30\" x=\"159.033203\"/>\n       <use xlink:href=\"#DejaVuSans-38\" x=\"222.65625\"/>\n      </g>\n     </g>\n    </g>\n    <g id=\"text_16\">\n     <!-- y -->\n     <g transform=\"translate(7.5125 177.487375) rotate(-90) scale(0.1 -0.1)\">\n      <defs>\n       <path id=\"DejaVuSans-79\" d=\"M 2059 -325 \nQ 1816 -950 1584 -1140 \nQ 1353 -1331 966 -1331 \nL 506 -1331 \nL 506 -850 \nL 844 -850 \nQ 1081 -850 1212 -737 \nQ 1344 -625 1503 -206 \nL 1606 56 \nL 191 3500 \nL 800 3500 \nL 1894 763 \nL 2988 3500 \nL 3597 3500 \nL 2059 -325 \nz\n\" transform=\"scale(0.015625)\"/>\n      </defs>\n      <use xlink:href=\"#DejaVuSans-79\"/>\n     </g>\n    </g>\n   </g>\n   <g id=\"line2d_29\">\n    <path d=\"M 139.30469 246.820003 \nL 139.30469 102.235997 \nL 141.924307 98.692943 \nL 147.814038 91.906498 \nL 153.703769 86.027765 \nL 159.5935 80.885634 \nL 165.483231 76.36428 \nL 171.372961 72.381237 \nL 177.262692 68.875604 \nL 183.152423 65.801194 \nL 189.042154 63.122299 \nL 194.931884 60.810965 \nL 200.821615 58.845157 \nL 206.711346 57.207506 \nL 212.601077 55.884421 \nL 218.490808 54.865469 \nL 224.380538 54.142927 \nL 230.270269 53.711475 \nL 236.16 53.568 \nL 242.049731 53.711475 \nL 247.939462 54.142927 \nL 253.829192 54.865469 \nL 259.718923 55.884421 \nL 265.608654 57.207506 \nL 271.498385 58.845157 \nL 277.388116 60.810965 \nL 283.277846 63.122299 \nL 289.167577 65.801194 \nL 295.057308 68.875604 \nL 300.947039 72.381237 \nL 306.836769 76.36428 \nL 312.7265 80.885634 \nL 318.616231 86.027765 \nL 324.505962 91.906498 \nL 330.395693 98.692943 \nL 333.01531 102.235997 \nL 333.01531 246.820003 \nL 330.395693 250.363057 \nL 324.505962 257.149502 \nL 318.616231 263.028235 \nL 312.7265 268.170366 \nL 306.836769 272.69172 \nL 300.947039 276.674763 \nL 295.057308 280.180396 \nL 289.167577 283.254806 \nL 283.277846 285.933701 \nL 277.388116 288.245035 \nL 271.498385 290.210843 \nL 265.608654 291.848494 \nL 259.718923 293.171579 \nL 253.829192 294.190531 \nL 247.939462 294.913073 \nL 242.049731 295.344525 \nL 236.16 295.488 \nL 230.270269 295.344525 \nL 224.380538 294.913073 \nL 218.490808 294.190531 \nL 212.601077 293.171579 \nL 206.711346 291.848494 \nL 200.821615 290.210843 \nL 194.931884 288.245035 \nL 189.042154 285.933701 \nL 183.152423 283.254806 \nL 177.262692 280.180396 \nL 171.372961 276.674763 \nL 165.483231 272.69172 \nL 159.5935 268.170366 \nL 153.703769 263.028235 \nL 147.814038 257.149502 \nL 141.924307 250.363057 \nL 139.30469 246.820003 \n\" clip-path=\"url(#pb78f5bc823)\" style=\"fill: none; stroke: #000000; stroke-width: 1.5; stroke-linecap: square\"/>\n   </g>\n   <g id=\"patch_4\">\n    <path d=\"M 57.6 307.584 \nL 57.6 41.472 \n\" style=\"fill: none; stroke: #000000; stroke-width: 0.8; stroke-linejoin: miter; stroke-linecap: square\"/>\n   </g>\n   <g id=\"patch_5\">\n    <path d=\"M 414.72 307.584 \nL 414.72 41.472 \n\" style=\"fill: none; stroke: #000000; stroke-width: 0.8; stroke-linejoin: miter; stroke-linecap: square\"/>\n   </g>\n   <g id=\"patch_6\">\n    <path d=\"M 57.6 307.584 \nL 414.72 307.584 \n\" style=\"fill: none; stroke: #000000; stroke-width: 0.8; stroke-linejoin: miter; stroke-linecap: square\"/>\n   </g>\n   <g id=\"patch_7\">\n    <path d=\"M 57.6 41.472 \nL 414.72 41.472 \n\" style=\"fill: none; stroke: #000000; stroke-width: 0.8; stroke-linejoin: miter; stroke-linecap: square\"/>\n   </g>\n  </g>\n </g>\n <defs>\n  <clipPath id=\"pb78f5bc823\">\n   <rect x=\"57.6\" y=\"41.472\" width=\"100%\" height=\"100%\"/>\n  </clipPath>\n </defs>\n</svg>\n</td><td><table><tr><th colspan=2 style='text-align:center'>Profile</th></tr><tr><td style='text-align:left'>classifiers</td><td>{&#x27;round&#x27;, &#x27;generic_elongation&#x27;}</td></tr><tr><td style='text-align:left'>cross_section</td><td><table><tr><th colspan=2 style='text-align:center'>Polygon</th></tr><tr><td style='text-align:left'>area</td><td>0.00017570071551876</td></tr><tr><td style='text-align:left'>height</td><td>0.015799999999999998</td></tr><tr><td style='text-align:left'>perimeter</td><td>0.048257316921936036</td></tr><tr><td style='text-align:left'>width</td><td>0.012651404537658997</td></tr></table></td></tr><tr><td style='text-align:left'>density</td><td>7500.0</td></tr><tr><td style='text-align:left'>freiberg_flow_stress_coefficients</td><td>FreibergFlowStressCoefficients(a=3268490000.0, m1=-0.00267855, m2=0.34446, m3=0, m4=0.000551814, m5=-0.00132042, m6=0, m7=0.0166334, m8=0.000149907, m9=0, baseStrain=0.1, baseStrainRate=0.1)</td></tr><tr><td style='text-align:left'>length</td><td>0.0</td></tr><tr><td style='text-align:left'>material</td><td>&#x27;C45&#x27;</td></tr><tr><td style='text-align:left'>strain</td><td>0.3520273306345031</td></tr><tr><td style='text-align:left'>t</td><td>18.435109033688455</td></tr><tr><td style='text-align:left'>temperature</td><td>1345.349476591933</td></tr><tr><td style='text-align:left'>thermal_capacity</td><td>690</td></tr></table></td></tr></table>"
     },
     "execution_count": 12,
     "metadata": {},
     "output_type": "execute_result"
    }
   ],
   "source": [
    "sequence.solve(in_profile)"
   ]
  },
  {
   "cell_type": "markdown",
   "metadata": {
    "extensions": {
     "jupyter_dashboards": {
      "activeView": "grid_default",
      "views": {
       "grid_default": {
        "col": null,
        "height": 2,
        "hidden": true,
        "locked": true,
        "row": null,
        "width": 2
       }
      }
     }
    }
   },
   "source": [
    "## Analysing the results\n",
    "\n",
    "To generate the report page that can also be obtained from the CLI command `report`, one may use the respective class directly."
   ]
  },
  {
   "cell_type": "code",
   "execution_count": 13,
   "metadata": {
    "extensions": {
     "jupyter_dashboards": {
      "activeView": "grid_default",
      "views": {
       "grid_default": {
        "col": null,
        "height": 2,
        "hidden": true,
        "locked": true,
        "row": null,
        "width": 2
       }
      }
     }
    },
    "ExecuteTime": {
     "end_time": "2023-09-01T12:06:15.803204990Z",
     "start_time": "2023-09-01T12:06:09.925392485Z"
    }
   },
   "outputs": [
    {
     "data": {
      "text/plain": "1769149"
     },
     "execution_count": 13,
     "metadata": {},
     "output_type": "execute_result"
    }
   ],
   "source": [
    "from pyroll.report import report\n",
    "\n",
    "rendered = report(sequence)\n",
    "file = \"report.html\"\n",
    "file_path = pathlib.Path.cwd() / file\n",
    "file_path.write_text(rendered, encoding='utf-8')"
   ]
  },
  {
   "cell_type": "code",
   "execution_count": 13,
   "metadata": {
    "extensions": {
     "jupyter_dashboards": {
      "activeView": "grid_default",
      "views": {
       "grid_default": {
        "col": null,
        "height": 2,
        "hidden": true,
        "locked": true,
        "row": null,
        "width": 2
       }
      }
     }
    },
    "tags": [],
    "ExecuteTime": {
     "end_time": "2023-09-01T12:06:15.808910665Z",
     "start_time": "2023-09-01T12:06:15.805966541Z"
    }
   },
   "outputs": [],
   "source": []
  }
 ],
 "metadata": {
  "extensions": {
   "jupyter_dashboards": {
    "activeView": "grid_default",
    "version": 1,
    "views": {
     "grid_default": {
      "cellMargin": 2,
      "defaultCellHeight": 40,
      "maxColumns": 12,
      "name": "grid",
      "type": "grid"
     }
    }
   }
  },
  "kernelspec": {
   "display_name": "Python 3 (ipykernel)",
   "language": "python",
   "name": "python3"
  },
  "language_info": {
   "codemirror_mode": {
    "name": "ipython",
    "version": 3
   },
   "file_extension": ".py",
   "mimetype": "text/x-python",
   "name": "python",
   "nbconvert_exporter": "python",
   "pygments_lexer": "ipython3",
   "version": "3.10.10"
  }
 },
 "nbformat": 4,
 "nbformat_minor": 4
}
